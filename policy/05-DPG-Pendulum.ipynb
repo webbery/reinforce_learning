{
 "cells": [
  {
   "cell_type": "code",
   "execution_count": 35,
   "id": "d3cbff0c",
   "metadata": {},
   "outputs": [],
   "source": [
    "import os\n",
    "from typing import Dict, List, Tuple\n",
    "\n",
    "import gymnasium as gym\n",
    "import matplotlib.pyplot as plt\n",
    "import numpy as np\n",
    "import torch\n",
    "import torch.nn as nn\n",
    "import torch.nn.functional as F\n",
    "import torch.optim as optim\n",
    "from IPython.display import clear_output\n",
    "from torch.distributions import Categorical\n",
    "import math\n",
    "import torch.nn as nn\n",
    "from tqdm import tqdm"
   ]
  },
  {
   "cell_type": "code",
   "execution_count": 36,
   "id": "566b7799",
   "metadata": {},
   "outputs": [
    {
     "name": "stdout",
     "output_type": "stream",
     "text": [
      "(3,) 3 Box(-2.0, 2.0, (1,), float32) 2.0\n"
     ]
    }
   ],
   "source": [
    "env = gym.make(\"Pendulum-v1\", render_mode=\"rgb_array\")\n",
    "\n",
    "device = torch.device(\n",
    "    \"cuda\" if torch.cuda.is_available() else \"cpu\"\n",
    ")\n",
    "\n",
    "obs_dim = env.observation_space.shape[0]\n",
    "action_info = env.action_space\n",
    "max_action = float(env.action_space.high[0])\n",
    "print(env.observation_space.shape, obs_dim, action_info, max_action)"
   ]
  },
  {
   "cell_type": "code",
   "execution_count": 37,
   "id": "b112fa74",
   "metadata": {},
   "outputs": [],
   "source": [
    "class ReplayBuffer:\n",
    "    def __init__(self, max_size: int, obs_dim: int, batch_size: int = 32):\n",
    "        self._obs_buf = np.zeros([max_size, obs_dim], dtype=np.float32)\n",
    "        self._act_buf = np.zeros([max_size], dtype=np.float32)\n",
    "        self._reward = np.zeros([max_size], dtype=np.float32)\n",
    "        self._next_obs_buf = np.zeros([max_size, obs_dim], dtype=np.float32)\n",
    "        self._done = np.zeros([max_size], dtype=np.float32)\n",
    "        \n",
    "        self._index = 0\n",
    "        self._size = 0\n",
    "        self._max_size = max_size\n",
    "        self._batch_size = batch_size\n",
    "        \n",
    "    def store(self, obs: np.ndarray, act: np.ndarray, rew: float, next_obs: np.ndarray, done: bool):\n",
    "        self._obs_buf[self._index] = obs\n",
    "        self._act_buf[self._index] = act\n",
    "        self._reward[self._index] = rew\n",
    "        self._next_obs_buf[self._index] = next_obs\n",
    "        self._done[self._index] = done\n",
    "        self._index = (self._index + 1) % self._max_size\n",
    "        self._size = min(self._size + 1, self._max_size)\n",
    "        \n",
    "    def __len__(self) -> int:\n",
    "        return self._size\n",
    "    \n",
    "    def sample(self) -> Dict[str, np.ndarray]:\n",
    "        idxs = np.random.choice(self._size, size=self._batch_size, replace=False)\n",
    "        return dict(obs=self._obs_buf[idxs],\n",
    "                    acts=self._act_buf[idxs],\n",
    "                    rews=self._reward[idxs],\n",
    "                    next_obs=self._next_obs_buf[idxs],\n",
    "                    done=self._done[idxs])"
   ]
  },
  {
   "cell_type": "code",
   "execution_count": 80,
   "id": "7c222b3d",
   "metadata": {},
   "outputs": [],
   "source": [
    "class ActionNetwork(nn.Module):\n",
    "    def __init__(self, in_dim: int, out_dim: int):\n",
    "        \"\"\"Initialization.\"\"\"\n",
    "        super(ActionNetwork, self).__init__()\n",
    "\n",
    "        self.layers = nn.Sequential(\n",
    "            nn.Linear(in_dim, 400, device=device), \n",
    "            nn.ReLU(),\n",
    "            nn.Linear(400, 300, device=device), \n",
    "            nn.ReLU(), \n",
    "            nn.Linear(300, out_dim, device=device)\n",
    "        )\n",
    "\n",
    "    def forward(self, x: torch.Tensor) -> torch.Tensor:\n",
    "        \"\"\"Forward method implementation.\"\"\"\n",
    "        return max_action * torch.tanh(self.layers(x).cpu())\n",
    "    \n",
    "class QValueNetwork(nn.Module):\n",
    "    def __init__(self, in_dim: int, out_dim: int):\n",
    "        '''状态价值，用来评估动作的好坏程度'''\n",
    "        super(QValueNetwork, self).__init__()\n",
    "        self.layers = nn.Sequential(\n",
    "            nn.Linear(in_dim + out_dim, 400, device=device), \n",
    "            nn.ReLU(),\n",
    "            nn.Linear(400, 300, device=device), \n",
    "            nn.ReLU(), \n",
    "            nn.Linear(300, 1, device=device)\n",
    "        )\n",
    "        \n",
    "    def forward(self, x: torch.Tensor, a: torch.Tensor) -> torch.Tensor:\n",
    "        \"\"\"Forward method implementation.\"\"\"\n",
    "#         a = torch.unsqueeze(a, dim=1)\n",
    "#         print(x.shape, a.shape)\n",
    "        t = torch.cat([x, a], 1)\n",
    "        return self.layers(t)"
   ]
  },
  {
   "cell_type": "code",
   "execution_count": 97,
   "id": "2bdb4dcc",
   "metadata": {},
   "outputs": [],
   "source": [
    "actor = ActionNetwork(obs_dim, 1)\n",
    "actor_target = ActionNetwork(obs_dim, 1)\n",
    "actor_target.load_state_dict(actor.state_dict())\n",
    "actor_optimizer = optim.Adam(actor.parameters(), lr=0.0001)\n",
    "\n",
    "critic = QValueNetwork(obs_dim, 1)\n",
    "critic_optimizer = optim.Adam(critic.parameters(), lr=0.0001)\n",
    "\n",
    "buffer = ReplayBuffer(2000, obs_dim, 32)"
   ]
  },
  {
   "cell_type": "code",
   "execution_count": 98,
   "id": "943fbe63",
   "metadata": {},
   "outputs": [],
   "source": [
    "def select_action(state, is_target):\n",
    "    '''策略网络做出决策，给出一个动作'''\n",
    "    if is_target:\n",
    "        action = actor_target(state)\n",
    "        return action.cpu().data.flatten()\n",
    "    else:\n",
    "        action = actor(state)\n",
    "        return action.cpu().data.flatten()\n",
    "\n",
    "def critic_value(state, action):\n",
    "    return critic(state, action)"
   ]
  },
  {
   "cell_type": "code",
   "execution_count": 102,
   "id": "c5eed4ef",
   "metadata": {},
   "outputs": [
    {
     "name": "stderr",
     "output_type": "stream",
     "text": [
      "  0%|                                                                                         | 0/1000 [00:00<?, ?it/s]C:\\Users\\webbe\\AppData\\Local\\Temp\\ipykernel_6176\\777992856.py:16: DeprecationWarning: Conversion of an array with ndim > 0 to a scalar is deprecated, and will error in future. Ensure you extract a single element from your array before performing this operation. (Deprecated NumPy 1.25.)\n",
      "  self._act_buf[self._index] = act\n",
      "  0%|                                                                                         | 0/1000 [00:00<?, ?it/s]\n"
     ]
    },
    {
     "ename": "NameError",
     "evalue": "name 'new_action' is not defined",
     "output_type": "error",
     "traceback": [
      "\u001b[1;31m---------------------------------------------------------------------------\u001b[0m",
      "\u001b[1;31mNameError\u001b[0m                                 Traceback (most recent call last)",
      "Input \u001b[1;32mIn [102]\u001b[0m, in \u001b[0;36m<cell line: 15>\u001b[1;34m()\u001b[0m\n\u001b[0;32m     65\u001b[0m critic_optimizer\u001b[38;5;241m.\u001b[39mstep()\n\u001b[0;32m     67\u001b[0m new_actions \u001b[38;5;241m=\u001b[39m select_action(states, \u001b[38;5;28;01mFalse\u001b[39;00m)\n\u001b[1;32m---> 68\u001b[0m \u001b[38;5;28mprint\u001b[39m(\u001b[38;5;124m'\u001b[39m\u001b[38;5;124morg act:\u001b[39m\u001b[38;5;124m'\u001b[39m, action, \u001b[38;5;124m'\u001b[39m\u001b[38;5;124mnew act:\u001b[39m\u001b[38;5;124m'\u001b[39m, \u001b[43mnew_action\u001b[49m)\n\u001b[0;32m     69\u001b[0m actor_loss \u001b[38;5;241m=\u001b[39m \u001b[38;5;241m-\u001b[39mcritic_value(states, new_actions\u001b[38;5;241m.\u001b[39munsqueeze(\u001b[38;5;241m1\u001b[39m)\u001b[38;5;241m.\u001b[39mto(device))\u001b[38;5;241m.\u001b[39mmean()\n\u001b[0;32m     70\u001b[0m avg_loss \u001b[38;5;241m+\u001b[39m\u001b[38;5;241m=\u001b[39m actor_loss\u001b[38;5;241m.\u001b[39mitem()\n",
      "\u001b[1;31mNameError\u001b[0m: name 'new_action' is not defined"
     ]
    }
   ],
   "source": [
    "gamma = 0.98\n",
    "tau = 0.005\n",
    "\n",
    "steps = []\n",
    "scores = []\n",
    "view_losses = []\n",
    "critic_losses = []\n",
    "max_epoch = 1000\n",
    "cnt = 1\n",
    "\n",
    "exploration_noise = 0.1\n",
    "\n",
    "rollcount = 16\n",
    "playtimes = 0\n",
    "for i in tqdm(range(max_epoch)):\n",
    "    score = 0\n",
    "    step = 0\n",
    "    playtimes = 0\n",
    "    state, _ = env.reset(seed=3)\n",
    "    while playtimes < 2:\n",
    "        '''让策略网络做预测'''\n",
    "        action = select_action(torch.FloatTensor(state).to(device), True)\n",
    "#         print(state, action)\n",
    "        action = (action.numpy() + np.random.normal(0, exploration_noise, size=env.action_space.shape[0])).clip(\n",
    "                    env.action_space.low, env.action_space.high)\n",
    "        next_state, reward, terminated, truncated, _ = env.step(np.float32(action))\n",
    "        done = terminated or truncated\n",
    "        \n",
    "        step += 1\n",
    "        score += reward\n",
    "#         print('play', playtimes, state, torch.FloatTensor(action).unsqueeze(1))\n",
    "#         V = critic_value(torch.FloatTensor(state).to(device), torch.FloatTensor(action).unsqueeze(1).to(device))\n",
    "        \n",
    "        buffer.store(state, action, reward, next_state, 1 - done)\n",
    "        if done:\n",
    "            steps.append(step)\n",
    "            state, _ = env.reset(seed=3)\n",
    "            playtimes += 1\n",
    "            continue\n",
    "        \n",
    "        state = next_state\n",
    "    scores.append(score / 2)\n",
    "    avg_loss = 0\n",
    "    avg_critic = 0\n",
    "    for i in range(rollcount):\n",
    "        samples = buffer.sample()\n",
    "        states = torch.FloatTensor(samples['obs']).to(device)\n",
    "        actions = torch.FloatTensor(samples['acts']).reshape(-1, 1).to(device)\n",
    "        rewards = torch.FloatTensor(samples['rews']).reshape(-1, 1).to(device)\n",
    "        next_states = torch.FloatTensor(samples['next_obs']).to(device)\n",
    "        masks = torch.LongTensor(samples['done']).reshape(-1, 1).to(device)\n",
    "#         print('states:', states)\n",
    "#         print('actions:', actions)\n",
    "        q_t = critic_value(states, actions)\n",
    "        next_actions = select_action(next_states, True)\n",
    "        next_q_t = critic_value(next_states, next_actions.unsqueeze(1).to(device))\n",
    "        '''计算价值网络的 TD 目标和 TD 误差'''\n",
    "        y_t = rewards + gamma * (next_q_t * masks).mean()\n",
    "#         print(q_t.shape, y_t.shape, y_t.unsqueeze(1).shape)\n",
    "        critic_loss = F.smooth_l1_loss(q_t, y_t)\n",
    "#         avg_critic += q_t.mean()\n",
    "        '''更新价值网络'''\n",
    "        critic_optimizer.zero_grad()\n",
    "        critic_loss.backward()\n",
    "        critic_optimizer.step()\n",
    "\n",
    "        new_actions = select_action(states, False)\n",
    "#         print('org act:', action, 'new act:', new_actions)\n",
    "        actor_loss = -critic_value(states, new_actions.unsqueeze(1).to(device)).mean()\n",
    "        avg_loss += actor_loss.item()\n",
    "    #     print(actor_loss)\n",
    "\n",
    "        '''更新策略网络'''\n",
    "        actor_optimizer.zero_grad()\n",
    "        actor_loss.backward()\n",
    "        actor_optimizer.step()\n",
    "\n",
    "    #         cnt += 1\n",
    "\n",
    "    #     if cnt % 20 == 0:\n",
    "        actor_target.load_state_dict(actor.state_dict())\n",
    "            \n",
    "    view_losses.append(avg_loss/rollcount)\n",
    "#     critic_losses.append(avg_critic_loss / rollcount)\n"
   ]
  },
  {
   "cell_type": "code",
   "execution_count": 100,
   "id": "988c737e",
   "metadata": {},
   "outputs": [
    {
     "data": {
      "image/png": "[encoded data removed]",
      "text/plain": [
       "<Figure size 1440x360 with 2 Axes>"
      ]
     },
     "metadata": {
      "needs_background": "light"
     },
     "output_type": "display_data"
    }
   ],
   "source": [
    "# 观察曲线\n",
    "plt.figure(figsize=(20, 5))\n",
    "plt.subplot(131)\n",
    "# plt.title('frame %s. score: %s' % (frame_idx, np.mean(scores[-10:])))\n",
    "plt.title('score')\n",
    "plt.plot(scores)\n",
    "# plt.subplot(132)\n",
    "# plt.title('critic loss')\n",
    "# plt.plot(critic_losses)\n",
    "plt.subplot(133)\n",
    "plt.title('actor loss')\n",
    "plt.plot(view_losses)\n",
    "plt.show()"
   ]
  },
  {
   "cell_type": "code",
   "execution_count": 101,
   "id": "ad685329",
   "metadata": {},
   "outputs": [
    {
     "name": "stdout",
     "output_type": "stream",
     "text": [
      "Moviepy - Building video E:\\code\\python\\reinforce_learning\\policy\\rl-video-episode-0.mp4.\n",
      "Moviepy - Writing video E:\\code\\python\\reinforce_learning\\policy\\rl-video-episode-0.mp4\n",
      "\n"
     ]
    },
    {
     "name": "stderr",
     "output_type": "stream",
     "text": [
      "                                                                                                                       "
     ]
    },
    {
     "name": "stdout",
     "output_type": "stream",
     "text": [
      "Moviepy - Done !\n",
      "Moviepy - video ready E:\\code\\python\\reinforce_learning\\policy\\rl-video-episode-0.mp4\n",
      "score:  -1744.0226285387928 step: 201\n"
     ]
    },
    {
     "name": "stderr",
     "output_type": "stream",
     "text": [
      "\r"
     ]
    }
   ],
   "source": [
    "# 观察效果\n",
    "def test():\n",
    "    dvideo_env = gym.wrappers.RecordVideo(env, video_folder='.')\n",
    "    state, _ = dvideo_env.reset(seed=3)\n",
    "    done = False\n",
    "    score = 0\n",
    "    step = 0\n",
    "    while not done:\n",
    "        action = select_action(torch.FloatTensor(state).to(device), True)\n",
    "        next_state, reward, done, truncated, _ = dvideo_env.step([action.item()])\n",
    "\n",
    "        state = next_state\n",
    "        score += reward\n",
    "        step +=1\n",
    "        \n",
    "        if step > 200:\n",
    "            break\n",
    "\n",
    "    print(\"score: \", score, \"step:\", step)\n",
    "    dvideo_env.close()\n",
    "    \n",
    "test()"
   ]
  },
  {
   "cell_type": "code",
   "execution_count": 29,
   "id": "188a399c",
   "metadata": {},
   "outputs": [
    {
     "name": "stdout",
     "output_type": "stream",
     "text": [
      "tensor([[3, 1],\n",
      "        [4, 2]])\n"
     ]
    }
   ],
   "source": [
    "# 创建两个张量\n",
    "tensor1 = torch.tensor([1, 2])\n",
    "tensor2 = torch.tensor([[3], [4]])\n",
    "\n",
    "# 在tensor1上添加一个维度\n",
    "tensor1 = torch.unsqueeze(tensor1, dim=1)\n",
    "\n",
    "# 拼接两个张量\n",
    "result = torch.cat((tensor2, tensor1), dim=1)\n",
    "\n",
    "print(result)"
   ]
  },
  {
   "cell_type": "code",
   "execution_count": null,
   "id": "f82da767",
   "metadata": {},
   "outputs": [],
   "source": []
  }
 ],
 "metadata": {
  "kernelspec": {
   "display_name": "Python 3 (ipykernel)",
   "language": "python",
   "name": "python3"
  },
  "language_info": {
   "codemirror_mode": {
    "name": "ipython",
    "version": 3
   },
   "file_extension": ".py",
   "mimetype": "text/x-python",
   "name": "python",
   "nbconvert_exporter": "python",
   "pygments_lexer": "ipython3",
   "version": "3.9.12"
  },
  "toc": {
   "base_numbering": 1,
   "nav_menu": {},
   "number_sections": true,
   "sideBar": true,
   "skip_h1_title": false,
   "title_cell": "Table of Contents",
   "title_sidebar": "Contents",
   "toc_cell": false,
   "toc_position": {},
   "toc_section_display": true,
   "toc_window_display": false
  },
  "varInspector": {
   "cols": {
    "lenName": 16,
    "lenType": 16,
    "lenVar": 40
   },
   "kernels_config": {
    "python": {
     "delete_cmd_postfix": "",
     "delete_cmd_prefix": "del ",
     "library": "var_list.py",
     "varRefreshCmd": "print(var_dic_list())"
    },
    "r": {
     "delete_cmd_postfix": ") ",
     "delete_cmd_prefix": "rm(",
     "library": "var_list.r",
     "varRefreshCmd": "cat(var_dic_list()) "
    }
   },
   "types_to_exclude": [
    "module",
    "function",
    "builtin_function_or_method",
    "instance",
    "_Feature"
   ],
   "window_display": false
  }
 },
 "nbformat": 4,
 "nbformat_minor": 5
}
