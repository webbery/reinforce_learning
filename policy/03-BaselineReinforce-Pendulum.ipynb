{
 "cells": [
  {
   "cell_type": "code",
   "execution_count": 11,
   "id": "490bc4ee",
   "metadata": {},
   "outputs": [],
   "source": [
    "import os\n",
    "from typing import Dict, List, Tuple\n",
    "\n",
    "import gymnasium as gym\n",
    "import matplotlib.pyplot as plt\n",
    "import numpy as np\n",
    "import torch\n",
    "import torch.nn as nn\n",
    "import torch.nn.functional as F\n",
    "import torch.optim as optim\n",
    "from IPython.display import clear_output\n",
    "from torch.distributions import Normal\n",
    "import random\n",
    "import math\n",
    "import torch.nn as nn"
   ]
  },
  {
   "cell_type": "code",
   "execution_count": 2,
   "id": "82667bb1",
   "metadata": {},
   "outputs": [
    {
     "name": "stdout",
     "output_type": "stream",
     "text": [
      "(3,) 3 Box(-2.0, 2.0, (1,), float32) 2.0\n"
     ]
    },
    {
     "name": "stderr",
     "output_type": "stream",
     "text": [
      "/home/ubuntu/anaconda3/lib/python3.7/site-packages/torch/cuda/__init__.py:88: UserWarning: CUDA initialization: The NVIDIA driver on your system is too old (found version 10010). Please update your GPU driver by downloading and installing a new version from the URL: http://www.nvidia.com/Download/index.aspx Alternatively, go to: https://pytorch.org to install a PyTorch version that has been compiled with your version of the CUDA driver. (Triggered internally at ../c10/cuda/CUDAFunctions.cpp:109.)\n",
      "  return torch._C._cuda_getDeviceCount() > 0\n"
     ]
    }
   ],
   "source": [
    "env = gym.make(\"Pendulum-v1\", render_mode=\"rgb_array\")\n",
    "\n",
    "device = torch.device(\n",
    "    \"cuda\" if torch.cuda.is_available() else \"cpu\"\n",
    ")\n",
    "\n",
    "obs_dim = env.observation_space.shape[0]\n",
    "action_info = env.action_space\n",
    "max_action = float(env.action_space.high[0])\n",
    "print(env.observation_space.shape, obs_dim, action_info, max_action)"
   ]
  },
  {
   "cell_type": "code",
   "execution_count": 5,
   "id": "8c2d43da",
   "metadata": {},
   "outputs": [],
   "source": [
    "class QNetwork(nn.Module):\n",
    "    def __init__(self, in_dim: int):\n",
    "        \"\"\"Initialization.\"\"\"\n",
    "        super(QNetwork, self).__init__()\n",
    "\n",
    "        self.base = nn.Sequential(\n",
    "            nn.Linear(in_dim, 400), \n",
    "            nn.ReLU(),\n",
    "            nn.Linear(400, 300), \n",
    "            nn.ReLU()\n",
    "        )\n",
    "        self.mean = nn.Sequential(\n",
    "            nn.Linear(300, 1)\n",
    "        )\n",
    "        self.std = nn.Sequential(\n",
    "            nn.Linear(300, 1)\n",
    "        )\n",
    "\n",
    "    def forward(self, x: torch.Tensor) -> torch.Tensor:\n",
    "        \"\"\"Forward method implementation.\"\"\"\n",
    "        val = self.base(x)\n",
    "        mean = self.mean(val)\n",
    "        std = torch.abs(self.std(val))\n",
    "        return mean, std\n",
    "    \n",
    "class VNetwork(nn.Module):\n",
    "    def __init__(self, in_dim: int):\n",
    "        \"\"\"Initialization.\"\"\"\n",
    "        super(VNetwork, self).__init__()\n",
    "\n",
    "        self.base = nn.Sequential(\n",
    "            nn.Linear(in_dim, 400), \n",
    "            nn.ReLU(),\n",
    "            nn.Linear(400, 300), \n",
    "            nn.ReLU(),\n",
    "            nn.Linear(300, 1)\n",
    "        )\n",
    "\n",
    "    def forward(self, x: torch.Tensor) -> torch.Tensor:\n",
    "        \"\"\"Forward method implementation.\"\"\"\n",
    "        return self.base(x)\n"
   ]
  },
  {
   "cell_type": "code",
   "execution_count": 7,
   "id": "c0f3d728",
   "metadata": {},
   "outputs": [],
   "source": [
    "Q_pi = QNetwork(obs_dim).to(device)\n",
    "V_pi = VNetwork(obs_dim).to(device)\n",
    "def select_action(state, is_test = False):\n",
    "    mean, std = Q_pi(torch.FloatTensor(state).to(device))\n",
    "    # 得到动作策略的概率质量分布,用该分布初始化采样器\n",
    "    m = Normal(mean, std)\n",
    "    # 按该分布做采样,得到一个动作\n",
    "    action = m.sample()\n",
    "    # 对概率质量函数取对数,并采样该分布在action的值,即log P在action点的概率密度函数值\n",
    "    loss = m.log_prob(action)\n",
    "    return max_action * torch.tanh(action), loss"
   ]
  },
  {
   "cell_type": "code",
   "execution_count": 20,
   "id": "54c518bf",
   "metadata": {},
   "outputs": [],
   "source": [
    "gamma = 0.98\n",
    "batch_size = 16\n",
    "\n",
    "q_optimizer = optim.Adam(Q_pi.parameters(), lr=0.0001)\n",
    "v_optimizer = optim.Adam(V_pi.parameters(), lr=0.0001)\n",
    "steps = []\n",
    "U_s = []\n",
    "scores = []\n",
    "view_losses = []\n",
    "max_epoch = 2000\n",
    "for i in range(max_epoch):\n",
    "    score = 0\n",
    "    step = 0\n",
    "    \n",
    "    state, _ = env.reset(seed=3)\n",
    "    trajectories = []\n",
    "    while True:\n",
    "        action, loss = select_action(state)\n",
    "        next_state, reward, terminated, truncated, _ = env.step(action)\n",
    "        done = terminated or truncated\n",
    "#         print(next_state)\n",
    "        \n",
    "        step += 1\n",
    "        score += reward\n",
    "        \n",
    "        trajectories.append([state, action, reward.item(), loss, done])\n",
    "        if done or step > 200:\n",
    "            steps.append(step)\n",
    "            scores.append(score)\n",
    "            break\n",
    "            \n",
    "        state = next_state\n",
    "    # 一轮结束,开始训练\n",
    "    L = len(trajectories)\n",
    "    # 反向遍历轨迹，计算并保存从当前轨迹点直到结束的所有奖励和\n",
    "    U_s = []\n",
    "    R = 0\n",
    "    for trace in trajectories[::-1]:\n",
    "        R = trace[2] + gamma * R\n",
    "        # 往头部插入奖励和\n",
    "        U_s.insert(0, R)\n",
    "    \n",
    "    # 拟合V_pi\n",
    "    states = []\n",
    "    rewards = []\n",
    "    actions = []\n",
    "    masks = []\n",
    "    Us = []\n",
    "    random.seed(i)\n",
    "    for j in range(batch_size):\n",
    "        random_numbers = random.sample(range(0, L), 1)\n",
    "        state, reward, action, loss, done = trajectories[random_numbers[0]]\n",
    "        states.append(state)\n",
    "        rewards.append(reward)\n",
    "        actions.append(action)\n",
    "        masks.append(1 - done)\n",
    "        Us.append(U_s[random_numbers[0]])\n",
    "    \n",
    "    masks = torch.FloatTensor(masks).view(batch_size,-1).to(device)\n",
    "    Us = torch.FloatTensor(Us).view(batch_size,-1).to(device)\n",
    "    states = torch.FloatTensor(states).view(batch_size,-1).to(device)\n",
    "    \n",
    "    V_t = V_pi(states)\n",
    "    v_loss = F.mse_loss(V_t, Us)\n",
    "    v_optimizer.zero_grad()\n",
    "    v_loss.backward()\n",
    "    v_optimizer.step()\n",
    "\n",
    "    U = torch.tensor(U_s)\n",
    "    losses = []\n",
    "    gammas = []\n",
    "    for t, _ in enumerate(U):\n",
    "        state, reward, action, loss, done = trajectories[t]\n",
    "        u_t = V_pi(torch.FloatTensor(state).to(device))\n",
    "#         print(u_t, next_state)\n",
    "        losses.append(-u_t * loss)\n",
    "        gammas.append(gamma ** t)\n",
    "        \n",
    "#     losses = torch.tensor(losses, requires_grad=True)\n",
    "    loss_sum = torch.tensor([0.0])\n",
    "    for v in losses:\n",
    "        loss_sum += v\n",
    "    gammas = torch.tensor(gammas, requires_grad=True)\n",
    "    # 然后做一次更新    \n",
    "    q_optimizer.zero_grad()\n",
    "#     print(losses)\n",
    "    loss = loss_sum\n",
    "#     loss = torch.dot(gammas, losses)\n",
    "    loss.backward()\n",
    "    q_optimizer.step()\n",
    "    view_losses.append(loss.detach().numpy())"
   ]
  },
  {
   "cell_type": "code",
   "execution_count": 21,
   "id": "742c4730",
   "metadata": {},
   "outputs": [
    {
     "data": {
      "image/png": "[encoded data removed]",
      "text/plain": [
       "<Figure size 1440x360 with 3 Axes>"
      ]
     },
     "metadata": {
      "needs_background": "light"
     },
     "output_type": "display_data"
    }
   ],
   "source": [
    "# 观察曲线\n",
    "plt.figure(figsize=(20, 5))\n",
    "plt.subplot(131)\n",
    "# plt.title('frame %s. score: %s' % (frame_idx, np.mean(scores[-10:])))\n",
    "plt.title('score')\n",
    "plt.plot(scores)\n",
    "plt.subplot(132)\n",
    "plt.title('steps')\n",
    "plt.plot(steps)\n",
    "plt.subplot(133)\n",
    "plt.title('actor loss')\n",
    "plt.plot(view_losses)\n",
    "plt.show()"
   ]
  },
  {
   "cell_type": "code",
   "execution_count": 25,
   "id": "3549ad01",
   "metadata": {},
   "outputs": [
    {
     "name": "stderr",
     "output_type": "stream",
     "text": [
      "/home/ubuntu/anaconda3/lib/python3.7/site-packages/gymnasium/wrappers/record_video.py:88: UserWarning: \u001b[33mWARN: Overwriting existing videos at /media/ubuntu/8b2f607c-117a-47e9-b82e-caf4eeeabeca/temp/test/reinforce_learning/policy folder (try specifying a different `video_folder` for the `RecordVideo` wrapper if this is not desired)\u001b[0m\n",
      "  f\"Overwriting existing videos at {self.video_folder} folder \"\n"
     ]
    },
    {
     "name": "stdout",
     "output_type": "stream",
     "text": [
      "Moviepy - Building video /media/ubuntu/8b2f607c-117a-47e9-b82e-caf4eeeabeca/temp/test/reinforce_learning/policy/rl-video-episode-0.mp4.\n",
      "Moviepy - Writing video /media/ubuntu/8b2f607c-117a-47e9-b82e-caf4eeeabeca/temp/test/reinforce_learning/policy/rl-video-episode-0.mp4\n",
      "\n"
     ]
    },
    {
     "name": "stderr",
     "output_type": "stream",
     "text": [
      "                                                               "
     ]
    },
    {
     "name": "stdout",
     "output_type": "stream",
     "text": [
      "Moviepy - Done !\n",
      "Moviepy - video ready /media/ubuntu/8b2f607c-117a-47e9-b82e-caf4eeeabeca/temp/test/reinforce_learning/policy/rl-video-episode-0.mp4\n",
      "score:  tensor(-1524.9186) step: 201\n"
     ]
    },
    {
     "name": "stderr",
     "output_type": "stream",
     "text": [
      "\r"
     ]
    }
   ],
   "source": [
    "# 观察效果\n",
    "def test():\n",
    "    dvideo_env = gym.wrappers.RecordVideo(env, video_folder='.')\n",
    "    state, _ = dvideo_env.reset(seed=3)\n",
    "    done = False\n",
    "    score = 0\n",
    "    step = 0\n",
    "    while not done:\n",
    "        action,_ = select_action(state)\n",
    "        next_state, reward, done, truncated, _ = dvideo_env.step(action)\n",
    "\n",
    "        state = next_state\n",
    "        score += reward\n",
    "        step +=1\n",
    "        \n",
    "        if step > 200:\n",
    "            break\n",
    "\n",
    "    print(\"score: \", score, \"step:\", step)\n",
    "    dvideo_env.close()\n",
    "    \n",
    "test()"
   ]
  },
  {
   "cell_type": "code",
   "execution_count": null,
   "id": "b44de414",
   "metadata": {},
   "outputs": [],
   "source": []
  }
 ],
 "metadata": {
  "kernelspec": {
   "display_name": "Python 3",
   "language": "python",
   "name": "python3"
  },
  "language_info": {
   "codemirror_mode": {
    "name": "ipython",
    "version": 3
   },
   "file_extension": ".py",
   "mimetype": "text/x-python",
   "name": "python",
   "nbconvert_exporter": "python",
   "pygments_lexer": "ipython3",
   "version": "3.7.0"
  },
  "toc": {
   "base_numbering": 1,
   "nav_menu": {},
   "number_sections": true,
   "sideBar": true,
   "skip_h1_title": false,
   "title_cell": "Table of Contents",
   "title_sidebar": "Contents",
   "toc_cell": false,
   "toc_position": {},
   "toc_section_display": true,
   "toc_window_display": false
  }
 },
 "nbformat": 4,
 "nbformat_minor": 5
}
