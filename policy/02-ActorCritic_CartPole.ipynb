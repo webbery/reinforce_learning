{
 "cells": [
  {
   "cell_type": "code",
   "execution_count": 1,
   "id": "29029eff",
   "metadata": {},
   "outputs": [],
   "source": [
    "import os\n",
    "from typing import Dict, List, Tuple\n",
    "\n",
    "import gymnasium as gym\n",
    "import matplotlib.pyplot as plt\n",
    "import numpy as np\n",
    "import torch\n",
    "import torch.nn as nn\n",
    "import torch.nn.functional as F\n",
    "import torch.optim as optim\n",
    "from IPython.display import clear_output\n",
    "from torch.distributions import Categorical\n",
    "import math\n",
    "import torch.nn as nn"
   ]
  },
  {
   "cell_type": "code",
   "execution_count": 2,
   "id": "66b7eece",
   "metadata": {},
   "outputs": [
    {
     "name": "stdout",
     "output_type": "stream",
     "text": [
      "(4,) 4 2\n"
     ]
    },
    {
     "name": "stderr",
     "output_type": "stream",
     "text": [
      "/home/ubuntu/anaconda3/lib/python3.7/site-packages/torch/cuda/__init__.py:88: UserWarning: CUDA initialization: The NVIDIA driver on your system is too old (found version 10010). Please update your GPU driver by downloading and installing a new version from the URL: http://www.nvidia.com/Download/index.aspx Alternatively, go to: https://pytorch.org to install a PyTorch version that has been compiled with your version of the CUDA driver. (Triggered internally at ../c10/cuda/CUDAFunctions.cpp:109.)\n",
      "  return torch._C._cuda_getDeviceCount() > 0\n"
     ]
    }
   ],
   "source": [
    "env = gym.make(\"CartPole-v1\", render_mode=\"rgb_array\")\n",
    "\n",
    "device = torch.device(\n",
    "    \"cuda\" if torch.cuda.is_available() else \"cpu\"\n",
    ")\n",
    "\n",
    "obs_dim = env.observation_space.shape[0]\n",
    "action_dim = env.action_space.n\n",
    "print(env.observation_space.shape, obs_dim, action_dim)"
   ]
  },
  {
   "cell_type": "code",
   "execution_count": 3,
   "id": "b68dd438",
   "metadata": {},
   "outputs": [],
   "source": [
    "class ActionNetwork(nn.Module):\n",
    "    def __init__(self, in_dim: int, out_dim: int):\n",
    "        \"\"\"Initialization.\"\"\"\n",
    "        super(ActionNetwork, self).__init__()\n",
    "\n",
    "        self.layers = nn.Sequential(\n",
    "            nn.Linear(in_dim, 128), \n",
    "            nn.ReLU(),\n",
    "            nn.Linear(128, 128), \n",
    "            nn.ReLU(), \n",
    "            nn.Linear(128, out_dim)\n",
    "        )\n",
    "\n",
    "    def forward(self, x: torch.Tensor) -> torch.Tensor:\n",
    "        \"\"\"Forward method implementation.\"\"\"\n",
    "        return F.softmax(self.layers(x))\n",
    "    \n",
    "class QValueNetwork(nn.Module):\n",
    "    def __init__(self, in_dim: int, action_dim: int):\n",
    "        '''状态价值，用来评估动作的好坏程度'''\n",
    "        super(QValueNetwork, self).__init__()\n",
    "        self.layers = nn.Sequential(\n",
    "            nn.Linear(in_dim, 128), \n",
    "            nn.ReLU(),\n",
    "            nn.Linear(128, 128), \n",
    "            nn.ReLU(), \n",
    "            nn.Linear(128, action_dim)\n",
    "        )\n",
    "        \n",
    "    def forward(self, x: torch.Tensor) -> torch.Tensor:\n",
    "        \"\"\"Forward method implementation.\"\"\"\n",
    "        return self.layers(x)"
   ]
  },
  {
   "cell_type": "code",
   "execution_count": 8,
   "id": "fbaec634",
   "metadata": {},
   "outputs": [],
   "source": [
    "actor = ActionNetwork(obs_dim, action_dim)\n",
    "critic = QValueNetwork(obs_dim, action_dim)\n",
    "\n",
    "actor_optimizer = optim.Adam(actor.parameters(), lr=0.0001)\n",
    "critic_optimizer = optim.Adam(critic.parameters(), lr=0.0001)"
   ]
  },
  {
   "cell_type": "code",
   "execution_count": 9,
   "id": "c15cd0c5",
   "metadata": {},
   "outputs": [],
   "source": [
    "def select_action(state):\n",
    "    '''策略网络做出决策，给出一个动作，并让智能体执行'''\n",
    "    action_probs = actor(torch.FloatTensor(state).to(device))\n",
    "    m = Categorical(action_probs)\n",
    "    action = m.sample()\n",
    "    loss = m.log_prob(action)\n",
    "    return action.item(), loss\n",
    "\n",
    "def critic_value(state, action):\n",
    "    index_tensor = torch.tensor([action])\n",
    "    return critic(torch.FloatTensor(state).to(device)).gather(0, index_tensor)"
   ]
  },
  {
   "cell_type": "code",
   "execution_count": 10,
   "id": "9c98c3bf",
   "metadata": {},
   "outputs": [
    {
     "name": "stderr",
     "output_type": "stream",
     "text": [
      "/home/ubuntu/anaconda3/lib/python3.7/site-packages/ipykernel_launcher.py:16: UserWarning: Implicit dimension choice for softmax has been deprecated. Change the call to include dim=X as an argument.\n",
      "  app.launch_new_instance()\n"
     ]
    }
   ],
   "source": [
    "gamma = 0.98\n",
    "\n",
    "steps = []\n",
    "U_s = []\n",
    "view_losses = []\n",
    "max_epoch = 2000\n",
    "for i in range(max_epoch):\n",
    "    score = 0\n",
    "    step = 0\n",
    "    \n",
    "    state, _ = env.reset(seed=3)\n",
    "    trajectories = []\n",
    "    while True:\n",
    "        action, log_prob = select_action(state)\n",
    "        '''从环境中观测到奖励和新的状态'''\n",
    "        next_state, reward, terminated, truncated, _ = env.step(action)\n",
    "        done = terminated or truncated\n",
    "        \n",
    "        '''根据策略网络做决策,但不让智能体执行动作'''\n",
    "        next_action, next_loss = select_action(next_state)\n",
    "        \n",
    "        step += 1\n",
    "        \n",
    "        trajectories.append([state, action, reward, next_state, next_action, log_prob, done])\n",
    "        if done or step > 200:\n",
    "            steps.append(step)\n",
    "            break\n",
    "        \n",
    "        state = next_state\n",
    "        \n",
    "    # 结束一轮游戏\n",
    "#     U_t = []\n",
    "#     R = 0\n",
    "#     for state, action, reward, next_state, next_action, log_prob, done in trajectories[::-1]:\n",
    "#         R = reward + gamma * R\n",
    "#         U_t.insert(0, R)\n",
    "        \n",
    "#         '''让价值网络打分'''\n",
    "#         q_t = critic_value(state, action)\n",
    "        \n",
    "    for state, action, reward, next_state, next_action, log_prob, done in trajectories[::-1]:        \n",
    "        mask = 1 - done\n",
    "        \n",
    "        '''让价值网络打分'''\n",
    "        q_t = critic_value(state, action)\n",
    "        next_q_t = critic_value(next_state, next_action)\n",
    "        '''计算价值网络的 TD 目标和 TD 误差'''\n",
    "        y_t = reward + gamma * next_q_t * mask\n",
    "        state_loss = F.smooth_l1_loss(q_t, y_t)\n",
    "        '''更新价值网络'''\n",
    "        critic_optimizer.zero_grad()\n",
    "        state_loss.backward()\n",
    "        critic_optimizer.step()\n",
    "        \n",
    "    loss_sum = torch.tensor([0.0])\n",
    "    for state, action, reward, next_state, next_action, log_prob, done in trajectories[::-1]:    \n",
    "        q_t = critic_value(state, action)\n",
    "        loss_sum += -q_t.item() * log_prob\n",
    "    \n",
    "    '''更新策略网络'''\n",
    "    actor_optimizer.zero_grad()\n",
    "    loss_sum.backward()\n",
    "    actor_optimizer.step()\n",
    "        "
   ]
  },
  {
   "cell_type": "code",
   "execution_count": 11,
   "id": "b77c7e3f",
   "metadata": {},
   "outputs": [
    {
     "data": {
      "image/png": "[encoded data removed]",
      "text/plain": [
       "<Figure size 1440x360 with 1 Axes>"
      ]
     },
     "metadata": {
      "needs_background": "light"
     },
     "output_type": "display_data"
    }
   ],
   "source": [
    "# 观察曲线\n",
    "plt.figure(figsize=(20, 5))\n",
    "# plt.subplot(131)\n",
    "# plt.title('frame %s. score: %s' % (frame_idx, np.mean(scores[-10:])))\n",
    "# plt.title('score')\n",
    "# plt.plot(scores)\n",
    "plt.subplot(132)\n",
    "plt.title('steps')\n",
    "plt.plot(steps)\n",
    "# plt.subplot(133)\n",
    "# plt.title('epsilons')\n",
    "# plt.plot(epsilons)\n",
    "plt.show()"
   ]
  },
  {
   "cell_type": "code",
   "execution_count": null,
   "id": "1076ae71",
   "metadata": {},
   "outputs": [],
   "source": []
  }
 ],
 "metadata": {
  "kernelspec": {
   "display_name": "Python 3 (ipykernel)",
   "language": "python",
   "name": "python3"
  },
  "language_info": {
   "codemirror_mode": {
    "name": "ipython",
    "version": 3
   },
   "file_extension": ".py",
   "mimetype": "text/x-python",
   "name": "python",
   "nbconvert_exporter": "python",
   "pygments_lexer": "ipython3",
   "version": "3.11.5"
  },
  "toc": {
   "base_numbering": 1,
   "nav_menu": {},
   "number_sections": true,
   "sideBar": true,
   "skip_h1_title": false,
   "title_cell": "Table of Contents",
   "title_sidebar": "Contents",
   "toc_cell": false,
   "toc_position": {},
   "toc_section_display": true,
   "toc_window_display": false
  },
  "varInspector": {
   "cols": {
    "lenName": 16,
    "lenType": 16,
    "lenVar": 40
   },
   "kernels_config": {
    "python": {
     "delete_cmd_postfix": "",
     "delete_cmd_prefix": "del ",
     "library": "var_list.py",
     "varRefreshCmd": "print(var_dic_list())"
    },
    "r": {
     "delete_cmd_postfix": ") ",
     "delete_cmd_prefix": "rm(",
     "library": "var_list.r",
     "varRefreshCmd": "cat(var_dic_list()) "
    }
   },
   "types_to_exclude": [
    "module",
    "function",
    "builtin_function_or_method",
    "instance",
    "_Feature"
   ],
   "window_display": false
  }
 },
 "nbformat": 4,
 "nbformat_minor": 5
}
