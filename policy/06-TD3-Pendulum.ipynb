{
 "cells": [
  {
   "cell_type": "code",
   "execution_count": 1,
   "id": "06c77d47",
   "metadata": {},
   "outputs": [],
   "source": [
    "import os\n",
    "from typing import Dict, List, Tuple\n",
    "\n",
    "import gymnasium as gym\n",
    "import matplotlib.pyplot as plt\n",
    "import numpy as np\n",
    "import torch\n",
    "import torch.nn as nn\n",
    "import torch.nn.functional as F\n",
    "import torch.optim as optim\n",
    "from IPython.display import clear_output\n",
    "from torch.distributions import Categorical\n",
    "import math\n",
    "import torch.nn as nn\n",
    "import random\n",
    "from tqdm import tqdm"
   ]
  },
  {
   "cell_type": "code",
   "execution_count": 2,
   "id": "32b9bc7e",
   "metadata": {},
   "outputs": [
    {
     "name": "stdout",
     "output_type": "stream",
     "text": [
      "(3,) 3 Box(-2.0, 2.0, (1,), float32) 2.0\n"
     ]
    }
   ],
   "source": [
    "env = gym.make(\"Pendulum-v1\", render_mode=\"rgb_array\")\n",
    "\n",
    "device = torch.device(\n",
    "    \"cuda\" if torch.cuda.is_available() else \"cpu\"\n",
    ")\n",
    "\n",
    "obs_dim = env.observation_space.shape[0]\n",
    "action_info = env.action_space\n",
    "max_action = float(env.action_space.high[0])\n",
    "print(env.observation_space.shape, obs_dim, action_info, max_action)"
   ]
  },
  {
   "cell_type": "code",
   "execution_count": 3,
   "id": "bd281c63",
   "metadata": {},
   "outputs": [],
   "source": [
    "class ReplayBuffer:\n",
    "    def __init__(self, max_size: int, obs_dim: int, batch_size: int = 32):\n",
    "        self._obs_buf = np.zeros([max_size, obs_dim], dtype=np.float32)\n",
    "        self._act_buf = np.zeros([max_size], dtype=np.float32)\n",
    "        self._reward = np.zeros([max_size], dtype=np.float32)\n",
    "        self._next_obs_buf = np.zeros([max_size, obs_dim], dtype=np.float32)\n",
    "        self._done = np.zeros([max_size], dtype=np.float32)\n",
    "        \n",
    "        self._index = 0\n",
    "        self._size = 0\n",
    "        self._max_size = max_size\n",
    "        self._batch_size = batch_size\n",
    "        \n",
    "    def store(self, obs: np.ndarray, act: np.ndarray, rew: float, next_obs: np.ndarray, done: bool):\n",
    "        self._obs_buf[self._index] = obs\n",
    "        self._act_buf[self._index] = act\n",
    "        self._reward[self._index] = rew\n",
    "        self._next_obs_buf[self._index] = next_obs\n",
    "        self._done[self._index] = done\n",
    "        self._index = (self._index + 1) % self._max_size\n",
    "        self._size = min(self._size + 1, self._max_size)\n",
    "        \n",
    "    def __len__(self) -> int:\n",
    "        return self._size\n",
    "    \n",
    "    def sample(self) -> Dict[str, np.ndarray]:\n",
    "        idxs = np.random.choice(self._size, size=self._batch_size, replace=False)\n",
    "        return dict(obs=self._obs_buf[idxs],\n",
    "                    acts=self._act_buf[idxs],\n",
    "                    rews=self._reward[idxs],\n",
    "                    next_obs=self._next_obs_buf[idxs],\n",
    "                    done=self._done[idxs])"
   ]
  },
  {
   "cell_type": "code",
   "execution_count": 4,
   "id": "f9697090",
   "metadata": {},
   "outputs": [],
   "source": [
    "class ActionNetwork(nn.Module):\n",
    "    def __init__(self, in_dim: int, out_dim: int):\n",
    "        \"\"\"Initialization.\"\"\"\n",
    "        super(ActionNetwork, self).__init__()\n",
    "\n",
    "        self.layers = nn.Sequential(\n",
    "            nn.Linear(in_dim, 400, device=device), \n",
    "            nn.ReLU(),\n",
    "            nn.Linear(400, 300, device=device), \n",
    "            nn.ReLU(), \n",
    "            nn.Linear(300, out_dim, device=device)\n",
    "        )\n",
    "\n",
    "    def forward(self, x: torch.Tensor) -> torch.Tensor:\n",
    "        \"\"\"Forward method implementation.\"\"\"\n",
    "        return max_action * torch.tanh(self.layers(x))\n",
    "    \n",
    "class QValueNetwork(nn.Module):\n",
    "    def __init__(self, in_dim: int, out_dim: int):\n",
    "        '''状态价值，用来评估动作的好坏程度'''\n",
    "        super(QValueNetwork, self).__init__()\n",
    "        self.layers = nn.Sequential(\n",
    "            nn.Linear(in_dim + out_dim, 400, device=device), \n",
    "            nn.ReLU(),\n",
    "            nn.Linear(400, 300, device=device), \n",
    "            nn.ReLU(), \n",
    "            nn.Linear(300, 1, device=device)\n",
    "        )\n",
    "        \n",
    "    def forward(self, x: torch.Tensor, a: torch.Tensor) -> torch.Tensor:\n",
    "        \"\"\"Forward method implementation.\"\"\"\n",
    "        t = torch.cat([x, a], 1)\n",
    "        return self.layers(t)"
   ]
  },
  {
   "cell_type": "markdown",
   "id": "b3714c9e",
   "metadata": {},
   "source": [
    "### 使用目标网络"
   ]
  },
  {
   "cell_type": "code",
   "execution_count": 5,
   "id": "691070da",
   "metadata": {},
   "outputs": [],
   "source": [
    "actor = ActionNetwork(obs_dim, 1)\n",
    "actor_target = ActionNetwork(obs_dim, 1)\n",
    "actor_target.load_state_dict(actor.state_dict())\n",
    "actor_optimizer = optim.Adam(actor.parameters(), lr=0.0001)\n",
    "\n",
    "critic = QValueNetwork(obs_dim, 1)\n",
    "critic_target = QValueNetwork(obs_dim, 1)\n",
    "critic_target.load_state_dict(critic.state_dict())\n",
    "critic_optimizer = optim.Adam(critic.parameters(), lr=0.0001)\n",
    "\n",
    "buffer = ReplayBuffer(2000, obs_dim, 32)"
   ]
  },
  {
   "cell_type": "code",
   "execution_count": 6,
   "id": "af1e8c0d",
   "metadata": {},
   "outputs": [],
   "source": [
    "def critic_value(state, action):\n",
    "    return critic(state, action)\n",
    "\n",
    "def critic_target_value(state, action):\n",
    "    return critic_target(state, action)\n",
    "\n",
    "def get_action(state):\n",
    "    action = actor(state)\n",
    "    return action\n",
    "\n",
    "def get_action_target(state):\n",
    "    action = actor_target(state)\n",
    "    return action"
   ]
  },
  {
   "cell_type": "code",
   "execution_count": 25,
   "id": "d202b2ec",
   "metadata": {},
   "outputs": [
    {
     "name": "stderr",
     "output_type": "stream",
     "text": [
      "  0%|                                                                                         | 0/1000 [00:00<?, ?it/s]C:\\Users\\webbe\\AppData\\Local\\Temp\\ipykernel_9948\\777992856.py:16: DeprecationWarning: Conversion of an array with ndim > 0 to a scalar is deprecated, and will error in future. Ensure you extract a single element from your array before performing this operation. (Deprecated NumPy 1.25.)\n",
      "  self._act_buf[self._index] = act\n",
      "100%|██████████████████████████████████████████████████████████████████████████████| 1000/1000 [08:23<00:00,  1.98it/s]\n"
     ]
    }
   ],
   "source": [
    "gamma = 0.98\n",
    "tau = 0.005\n",
    "exploration_noise = 0.1\n",
    "max_epoch = 1000\n",
    "batch_size = 16\n",
    "\n",
    "steps = []\n",
    "scores = []\n",
    "view_losses = []\n",
    "\n",
    "for i in tqdm(range(max_epoch)):\n",
    "    score = 0\n",
    "    step = 0\n",
    "    cnt = 1\n",
    "    \n",
    "    s, _ = env.reset(seed=3)\n",
    "    while True:\n",
    "        '''让策略网络做预测'''\n",
    "        action = get_action_target(torch.tensor(s).to(device))\n",
    "        action = (action.cpu().data.numpy() + np.random.normal(0, exploration_noise, size=env.action_space.shape[0])).clip(\n",
    "                    env.action_space.low, env.action_space.high)\n",
    "        next_state, reward, terminated, truncated, _ = env.step(np.float32(action))\n",
    "        done = terminated or truncated\n",
    "        \n",
    "        step += 1\n",
    "        score += reward\n",
    "#         print(np.float32(action), reward)\n",
    "        \n",
    "        buffer.store(s, action, reward, next_state, 1 - done)\n",
    "        if done:\n",
    "            steps.append(step)\n",
    "            scores.append(score)\n",
    "            break\n",
    "        \n",
    "        s = next_state\n",
    "    # 结束一轮游戏\n",
    "    avg_loss = 0\n",
    "#     print(score, L)\n",
    "    for j in range(32):\n",
    "        samples = buffer.sample()\n",
    "        states = torch.FloatTensor(samples['obs']).to(device)\n",
    "        actions = torch.FloatTensor(samples['acts']).reshape(-1, 1).to(device)\n",
    "        rewards = torch.FloatTensor(samples['rews']).reshape(-1, 1).to(device)\n",
    "        next_states = torch.FloatTensor(samples['next_obs']).to(device)\n",
    "        masks = torch.LongTensor(samples['done']).reshape(-1, 1).to(device)\n",
    "#         print(masks.shape)\n",
    "        '''让价值网络做预测'''\n",
    "        q_t = critic_value(states, actions)\n",
    "        next_actions = get_action_target(next_states)\n",
    "        next_q_t = critic_target_value(next_states, next_actions.to(device))\n",
    "        '''计算价值网络的 TD 目标和 TD 误差'''\n",
    "        y_t = rewards + gamma * (next_q_t * masks)\n",
    "#         print('reward_t:', reward_t.shape, 'y_t:', y_t.shape, 'rewards:', rewards, 'result:', (next_q_t * masks).shape)\n",
    "        critic_loss = F.mse_loss(q_t, y_t)\n",
    "        '''更新价值网络'''\n",
    "        critic_optimizer.zero_grad()\n",
    "        critic_loss.backward()\n",
    "        critic_optimizer.step()\n",
    "\n",
    "        new_acts = get_action(states)\n",
    "#         print(new_acts)\n",
    "        actor_loss = -critic_value(states, new_acts).mean()\n",
    "#         print(actor_loss)\n",
    "#         print('state:', states)\n",
    "#         print('act:', new_acts)\n",
    "#         actor_loss = actor_loss.mean()\n",
    "        avg_loss += actor_loss.item()\n",
    "\n",
    "        '''更新策略网络'''\n",
    "        actor_optimizer.zero_grad()\n",
    "        actor_loss.backward()\n",
    "        actor_optimizer.step()\n",
    "\n",
    "        for param, target_param in zip(critic.parameters(), critic_target.parameters()):\n",
    "            target_param.data.copy_(tau * param.data + (1 - tau) * target_param.data)\n",
    "\n",
    "        for param, target_param in zip(actor.parameters(), actor_target.parameters()):\n",
    "            target_param.data.copy_(tau * param.data + (1 - tau) * target_param.data)\n",
    "\n",
    "\n",
    "        cnt += 1\n",
    "    \n",
    "    view_losses.append(avg_loss / cnt)\n",
    "         "
   ]
  },
  {
   "cell_type": "code",
   "execution_count": 26,
   "id": "a5708ce5",
   "metadata": {},
   "outputs": [
    {
     "data": {
      "image/png": "[encoded data removed]",
      "text/plain": [
       "<Figure size 1440x360 with 3 Axes>"
      ]
     },
     "metadata": {
      "needs_background": "light"
     },
     "output_type": "display_data"
    }
   ],
   "source": [
    "# 观察曲线\n",
    "plt.figure(figsize=(20, 5))\n",
    "plt.subplot(131)\n",
    "# plt.title('frame %s. score: %s' % (frame_idx, np.mean(scores[-10:])))\n",
    "plt.title('score')\n",
    "plt.plot(scores)\n",
    "plt.subplot(132)\n",
    "plt.title('steps')\n",
    "plt.plot(steps)\n",
    "plt.subplot(133)\n",
    "plt.title('actor loss')\n",
    "plt.plot(view_losses)\n",
    "plt.show()"
   ]
  },
  {
   "cell_type": "code",
   "execution_count": 30,
   "id": "b6fcc157",
   "metadata": {},
   "outputs": [
    {
     "name": "stdout",
     "output_type": "stream",
     "text": [
      "Moviepy - Building video E:\\code\\python\\reinforce_learning\\policy\\rl-video-episode-0.mp4.\n",
      "Moviepy - Writing video E:\\code\\python\\reinforce_learning\\policy\\rl-video-episode-0.mp4\n",
      "\n"
     ]
    },
    {
     "name": "stderr",
     "output_type": "stream",
     "text": [
      "                                                                                                                       \r"
     ]
    },
    {
     "name": "stdout",
     "output_type": "stream",
     "text": [
      "Moviepy - Done !\n",
      "Moviepy - video ready E:\\code\\python\\reinforce_learning\\policy\\rl-video-episode-0.mp4\n",
      "score:  -1284.273510600242 step: 201\n"
     ]
    }
   ],
   "source": [
    "# 观察效果\n",
    "def test():\n",
    "    dvideo_env = gym.wrappers.RecordVideo(env, video_folder='.')\n",
    "    state, _ = dvideo_env.reset(seed=3)\n",
    "    done = False\n",
    "    score = 0\n",
    "    step = 0\n",
    "    while not done:\n",
    "        action = get_action_target(torch.tensor(state).to(device))\n",
    "#         print(action)\n",
    "        next_state, reward, done, truncated, _ = dvideo_env.step(action.cpu().detach().numpy())\n",
    "\n",
    "        state = next_state\n",
    "        score += reward\n",
    "        step +=1\n",
    "        \n",
    "        if step > 200:\n",
    "            break\n",
    "\n",
    "    print(\"score: \", score, \"step:\", step)\n",
    "    dvideo_env.close()\n",
    "    \n",
    "test()"
   ]
  },
  {
   "cell_type": "markdown",
   "id": "2b20858b",
   "metadata": {},
   "source": [
    "### 截断双Q学习"
   ]
  },
  {
   "cell_type": "code",
   "execution_count": 7,
   "id": "b53c0598",
   "metadata": {},
   "outputs": [],
   "source": [
    "def generate_critics():\n",
    "    critic = QValueNetwork(obs_dim, 1)\n",
    "    critic_target = QValueNetwork(obs_dim, 1)\n",
    "    critic_target.load_state_dict(critic.state_dict())\n",
    "    critic_optimizer = optim.Adam(critic.parameters(), lr=0.0001)\n",
    "    return critic, critic_target, critic_optimizer"
   ]
  },
  {
   "cell_type": "code",
   "execution_count": 8,
   "id": "4536f83b",
   "metadata": {},
   "outputs": [],
   "source": [
    "critic_1, critic_target_1, critic_optimizer_1 = generate_critics()\n",
    "critic_2, critic_target_2, critic_optimizer_2 = generate_critics()"
   ]
  },
  {
   "cell_type": "code",
   "execution_count": null,
   "id": "413f9dc3",
   "metadata": {},
   "outputs": [],
   "source": [
    "gamma = 0.98\n",
    "tau = 0.005\n",
    "exploration_noise = 0.1\n",
    "max_epoch = 1000\n",
    "batch_size = 16\n",
    "\n",
    "steps = []\n",
    "scores = []\n",
    "view_losses = []\n",
    "\n",
    "for i in tqdm(range(max_epoch)):\n",
    "    score = 0\n",
    "    step = 0\n",
    "    cnt = 1\n",
    "    \n",
    "    s, _ = env.reset(seed=3)\n",
    "    while True:\n",
    "        '''让策略网络做预测'''\n",
    "        action = get_action_target(torch.tensor(s).to(device))\n",
    "        action = (action.cpu().data.numpy() + np.random.normal(0, exploration_noise, size=env.action_space.shape[0])).clip(\n",
    "                    env.action_space.low, env.action_space.high)\n",
    "        next_state, reward, terminated, truncated, _ = env.step(np.float32(action))\n",
    "        done = terminated or truncated\n",
    "        \n",
    "        step += 1\n",
    "        score += reward\n",
    "#         print(np.float32(action), reward)\n",
    "        \n",
    "        buffer.store(s, action, reward, next_state, 1 - done)\n",
    "        if done:\n",
    "            steps.append(step)\n",
    "            scores.append(score)\n",
    "            break\n",
    "        \n",
    "        s = next_state\n",
    "    # 结束一轮游戏\n",
    "    avg_loss = 0\n",
    "#     print(score, L)\n",
    "    for j in range(32):\n",
    "        samples = buffer.sample()\n",
    "        states = torch.FloatTensor(samples['obs']).to(device)\n",
    "        actions = torch.FloatTensor(samples['acts']).reshape(-1, 1).to(device)\n",
    "        rewards = torch.FloatTensor(samples['rews']).reshape(-1, 1).to(device)\n",
    "        next_states = torch.FloatTensor(samples['next_obs']).to(device)\n",
    "        masks = torch.LongTensor(samples['done']).reshape(-1, 1).to(device)\n",
    "#         print(masks.shape)\n",
    "        '''让价值网络做预测'''\n",
    "        q_t = critic_value(states, actions)\n",
    "        next_actions = get_action_target(next_states)\n",
    "        next_q_t = critic_target_value(next_states, next_actions.to(device))\n",
    "        '''计算价值网络的 TD 目标和 TD 误差'''\n",
    "        y_t = rewards + gamma * (next_q_t * masks)\n",
    "#         print('reward_t:', reward_t.shape, 'y_t:', y_t.shape, 'rewards:', rewards, 'result:', (next_q_t * masks).shape)\n",
    "        critic_loss = F.mse_loss(q_t, y_t)\n",
    "        '''更新价值网络'''\n",
    "        critic_optimizer.zero_grad()\n",
    "        critic_loss.backward()\n",
    "        critic_optimizer.step()\n",
    "\n",
    "        new_acts = get_action(states)\n",
    "#         print(new_acts)\n",
    "        actor_loss = -critic_value(states, new_acts).mean()\n",
    "#         print(actor_loss)\n",
    "#         print('state:', states)\n",
    "#         print('act:', new_acts)\n",
    "#         actor_loss = actor_loss.mean()\n",
    "        avg_loss += actor_loss.item()\n",
    "\n",
    "        '''更新策略网络'''\n",
    "        actor_optimizer.zero_grad()\n",
    "        actor_loss.backward()\n",
    "        actor_optimizer.step()\n",
    "\n",
    "        for param, target_param in zip(critic.parameters(), critic_target.parameters()):\n",
    "            target_param.data.copy_(tau * param.data + (1 - tau) * target_param.data)\n",
    "\n",
    "        for param, target_param in zip(actor.parameters(), actor_target.parameters()):\n",
    "            target_param.data.copy_(tau * param.data + (1 - tau) * target_param.data)\n",
    "\n",
    "\n",
    "        cnt += 1\n",
    "    \n",
    "    view_losses.append(avg_loss / cnt)\n",
    "         "
   ]
  },
  {
   "cell_type": "markdown",
   "id": "c633de32",
   "metadata": {},
   "source": [
    "### 向目标策略网络中加入噪声"
   ]
  },
  {
   "cell_type": "code",
   "execution_count": null,
   "id": "460a1ee9",
   "metadata": {},
   "outputs": [],
   "source": []
  }
 ],
 "metadata": {
  "kernelspec": {
   "display_name": "Python 3 (ipykernel)",
   "language": "python",
   "name": "python3"
  },
  "language_info": {
   "codemirror_mode": {
    "name": "ipython",
    "version": 3
   },
   "file_extension": ".py",
   "mimetype": "text/x-python",
   "name": "python",
   "nbconvert_exporter": "python",
   "pygments_lexer": "ipython3",
   "version": "3.11.5"
  },
  "toc": {
   "base_numbering": 1,
   "nav_menu": {},
   "number_sections": true,
   "sideBar": true,
   "skip_h1_title": false,
   "title_cell": "Table of Contents",
   "title_sidebar": "Contents",
   "toc_cell": false,
   "toc_position": {},
   "toc_section_display": true,
   "toc_window_display": false
  },
  "varInspector": {
   "cols": {
    "lenName": 16,
    "lenType": 16,
    "lenVar": 40
   },
   "kernels_config": {
    "python": {
     "delete_cmd_postfix": "",
     "delete_cmd_prefix": "del ",
     "library": "var_list.py",
     "varRefreshCmd": "print(var_dic_list())"
    },
    "r": {
     "delete_cmd_postfix": ") ",
     "delete_cmd_prefix": "rm(",
     "library": "var_list.r",
     "varRefreshCmd": "cat(var_dic_list()) "
    }
   },
   "types_to_exclude": [
    "module",
    "function",
    "builtin_function_or_method",
    "instance",
    "_Feature"
   ],
   "window_display": false
  }
 },
 "nbformat": 4,
 "nbformat_minor": 5
}
