{
 "cells": [
  {
   "cell_type": "code",
   "execution_count": 1,
   "id": "079d1e5f",
   "metadata": {},
   "outputs": [],
   "source": [
    "import os\n",
    "from typing import Dict, List, Tuple\n",
    "\n",
    "import gymnasium as gym\n",
    "import matplotlib.pyplot as plt\n",
    "import numpy as np\n",
    "import torch\n",
    "import torch.nn as nn\n",
    "import torch.nn.functional as F\n",
    "import torch.optim as optim\n",
    "from IPython.display import clear_output"
   ]
  },
  {
   "cell_type": "code",
   "execution_count": 3,
   "id": "14c9c862",
   "metadata": {},
   "outputs": [],
   "source": [
    "env = gym.make('CartPole-v1')"
   ]
  },
  {
   "cell_type": "markdown",
   "id": "4cb767cb",
   "metadata": {},
   "source": [
    "#### gym环境\n",
    "1. 调用env.reset()初始化游戏环境\n",
    "2. 生成一个action，传递给env.step(action),相当于走了一步\n",
    "3. env.step返回走了一步之后的环境状态，该步的奖励，是否游戏结束及相关其他信息\n",
    "#### env其他信息\n",
    "1. render(): 输出渲染\n",
    "2. env.action_space.sample()采样并生成一个动作"
   ]
  },
  {
   "cell_type": "markdown",
   "id": "e3f47db4",
   "metadata": {},
   "source": [
    "### 使用gym基本框架："
   ]
  },
  {
   "cell_type": "code",
   "execution_count": 4,
   "id": "8d554aca",
   "metadata": {},
   "outputs": [],
   "source": [
    "epoch = 100\n",
    "while True:\n",
    "    if epoch <= 0:\n",
    "        break\n",
    "    \n",
    "    epoch -= 1\n",
    "    state = env.reset()\n",
    "    while True:\n",
    "        action = env.action_space.sample()\n",
    "        \n",
    "        next_state, reward, done, truncated, _ = env.step(action)\n",
    "        if done:\n",
    "            break"
   ]
  },
  {
   "cell_type": "markdown",
   "id": "354462ca",
   "metadata": {},
   "source": [
    "### 更进一步：CartPole的环境信息"
   ]
  },
  {
   "cell_type": "code",
   "execution_count": null,
   "id": "e2f3fe5e",
   "metadata": {},
   "outputs": [],
   "source": []
  }
 ],
 "metadata": {
  "kernelspec": {
   "display_name": "Python 3 (ipykernel)",
   "language": "python",
   "name": "python3"
  },
  "language_info": {
   "codemirror_mode": {
    "name": "ipython",
    "version": 3
   },
   "file_extension": ".py",
   "mimetype": "text/x-python",
   "name": "python",
   "nbconvert_exporter": "python",
   "pygments_lexer": "ipython3",
   "version": "3.11.5"
  }
 },
 "nbformat": 4,
 "nbformat_minor": 5
}
