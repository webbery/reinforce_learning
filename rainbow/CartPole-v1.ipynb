{
 "cells": [
  {
   "cell_type": "code",
   "execution_count": 1,
   "id": "079d1e5f",
   "metadata": {},
   "outputs": [],
   "source": [
    "import os\n",
    "from typing import Dict, List, Tuple\n",
    "\n",
    "import gymnasium as gym\n",
    "import matplotlib.pyplot as plt\n",
    "import numpy as np\n",
    "import torch\n",
    "import torch.nn as nn\n",
    "import torch.nn.functional as F\n",
    "import torch.optim as optim\n",
    "from IPython.display import clear_output"
   ]
  },
  {
   "cell_type": "code",
   "execution_count": 2,
   "id": "14c9c862",
   "metadata": {},
   "outputs": [],
   "source": [
    "env = gym.make('CartPole-v1')"
   ]
  },
  {
   "cell_type": "markdown",
   "id": "4cb767cb",
   "metadata": {},
   "source": [
    "#### gym环境\n",
    "1. 调用env.reset()初始化游戏环境\n",
    "2. 生成一个action，传递给env.step(action),相当于走了一步\n",
    "3. env.step返回走了一步之后的环境状态，该步的奖励，是否游戏结束及相关其他信息\n",
    "#### env其他信息\n",
    "1. render(): 输出渲染\n",
    "2. env.action_space.sample()采样并生成一个动作"
   ]
  },
  {
   "cell_type": "markdown",
   "id": "e3f47db4",
   "metadata": {},
   "source": [
    "### 使用gym基本框架："
   ]
  },
  {
   "cell_type": "code",
   "execution_count": 7,
   "id": "8d554aca",
   "metadata": {},
   "outputs": [],
   "source": [
    "epoch = 100\n",
    "while True:\n",
    "    if epoch <= 0:\n",
    "        break\n",
    "    \n",
    "    epoch -= 1\n",
    "    state = env.reset()\n",
    "    while True:\n",
    "        action = env.action_space.sample()\n",
    "        '''action是动作空间中的单个值，而不是向量'''\n",
    "        \n",
    "        next_state, reward, done, truncated, _ = env.step(action)\n",
    "        if done:\n",
    "            break"
   ]
  },
  {
   "cell_type": "markdown",
   "id": "354462ca",
   "metadata": {},
   "source": [
    "### 更进一步：CartPole的环境信息"
   ]
  },
  {
   "cell_type": "code",
   "execution_count": 5,
   "id": "e2f3fe5e",
   "metadata": {},
   "outputs": [
    {
     "name": "stdout",
     "output_type": "stream",
     "text": [
      "obs dim: 4, action dim: 2\n"
     ]
    }
   ],
   "source": [
    "obs_dim = env.observation_space.shape[0]\n",
    "action_dim = env.action_space.n\n",
    "\n",
    "print('obs dim: {}, action dim: {}'.format(obs_dim,action_dim))"
   ]
  },
  {
   "cell_type": "markdown",
   "id": "da6c5a7a",
   "metadata": {},
   "source": [
    "- 观察输出可知，状态空间的维度为4，动作空间维度为2"
   ]
  },
  {
   "cell_type": "code",
   "execution_count": null,
   "id": "4ad66b84",
   "metadata": {},
   "outputs": [],
   "source": []
  }
 ],
 "metadata": {
  "kernelspec": {
   "display_name": "Python 3 (ipykernel)",
   "language": "python",
   "name": "python3"
  },
  "language_info": {
   "codemirror_mode": {
    "name": "ipython",
    "version": 3
   },
   "file_extension": ".py",
   "mimetype": "text/x-python",
   "name": "python",
   "nbconvert_exporter": "python",
   "pygments_lexer": "ipython3",
   "version": "3.11.5"
  },
  "toc": {
   "base_numbering": 1,
   "nav_menu": {},
   "number_sections": true,
   "sideBar": true,
   "skip_h1_title": false,
   "title_cell": "Table of Contents",
   "title_sidebar": "Contents",
   "toc_cell": false,
   "toc_position": {},
   "toc_section_display": true,
   "toc_window_display": false
  },
  "varInspector": {
   "cols": {
    "lenName": 16,
    "lenType": 16,
    "lenVar": 40
   },
   "kernels_config": {
    "python": {
     "delete_cmd_postfix": "",
     "delete_cmd_prefix": "del ",
     "library": "var_list.py",
     "varRefreshCmd": "print(var_dic_list())"
    },
    "r": {
     "delete_cmd_postfix": ") ",
     "delete_cmd_prefix": "rm(",
     "library": "var_list.r",
     "varRefreshCmd": "cat(var_dic_list()) "
    }
   },
   "types_to_exclude": [
    "module",
    "function",
    "builtin_function_or_method",
    "instance",
    "_Feature"
   ],
   "window_display": false
  }
 },
 "nbformat": 4,
 "nbformat_minor": 5
}
