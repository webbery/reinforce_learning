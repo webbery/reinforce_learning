{
 "cells": [
  {
   "cell_type": "code",
   "execution_count": 1,
   "id": "c2121cd1",
   "metadata": {},
   "outputs": [],
   "source": [
    "import os\n",
    "from typing import Dict, List, Tuple\n",
    "\n",
    "import gymnasium as gym\n",
    "import matplotlib.pyplot as plt\n",
    "import numpy as np\n",
    "import torch\n",
    "import torch.nn as nn\n",
    "import torch.nn.functional as F\n",
    "import torch.optim as optim\n",
    "from IPython.display import clear_output"
   ]
  },
  {
   "cell_type": "code",
   "execution_count": 100,
   "id": "42b1f7b5",
   "metadata": {},
   "outputs": [],
   "source": [
    "env = gym.make('FrozenLake-v1', render_mode='rgb_array')\n",
    "# env = gym.make('CartPole-v1', render_mode='rgb_array')\n",
    "device = torch.device(\n",
    "    \"cuda\" if torch.cuda.is_available() else \"cpu\"\n",
    ")"
   ]
  },
  {
   "cell_type": "code",
   "execution_count": 203,
   "id": "064cb030",
   "metadata": {},
   "outputs": [],
   "source": [
    "class QNetwork(nn.Module):\n",
    "    def __init__(self, in_dim: int, out_dim: int):\n",
    "        super(QNetwork, self).__init__()\n",
    "        '''注意网络的定义为Q(s,a;w),隐变量为w,输入为状态s,输出为当前状态s下所有可能动作A的最大未来收益'''\n",
    "        self.layers = nn.Sequential(\n",
    "            nn.Linear(in_dim, 128),\n",
    "            nn.ReLU(),\n",
    "            nn.Linear(128, 128), \n",
    "            nn.ReLU(), \n",
    "            nn.Linear(128, out_dim)\n",
    "        )\n",
    "#         self.layers.\n",
    "    \n",
    "    def forward(self, x: torch.Tensor) -> torch.Tensor:\n",
    "        '''前向推理实现'''\n",
    "        return self.layers(x)"
   ]
  },
  {
   "cell_type": "code",
   "execution_count": 322,
   "id": "237b8dce",
   "metadata": {},
   "outputs": [],
   "source": [
    "obs_dim = env.observation_space.n\n",
    "action_dim = env.action_space.n\n",
    "\n",
    "# 构建两个Q函数，其中Q为，Q_target为\n",
    "Q = QNetwork(obs_dim, action_dim).to(device)\n",
    "# Q_target = QNetwork(obs_dim, action_dim).to(device)\n",
    "# Q_target.load_state_dict(Q.state_dict())\n",
    "# Q_target.eval()\n",
    "\n",
    "#\n",
    "optimizer = optim.Adam(Q.parameters(), lr=0.001)"
   ]
  },
  {
   "cell_type": "code",
   "execution_count": 323,
   "id": "63d4a13b",
   "metadata": {},
   "outputs": [
    {
     "data": {
      "text/plain": [
       "[0, 0, 0, 1, 0, 0, 0, 0, 0, 0, 0, 0, 0, 0, 0, 0]"
      ]
     },
     "execution_count": 323,
     "metadata": {},
     "output_type": "execute_result"
    }
   ],
   "source": [
    "def convert_state(state):\n",
    "    init_state = torch.tensor([state])\n",
    "    return F.one_hot(init_state, num_classes = obs_dim).numpy()[0].tolist()\n",
    "\n",
    "epsilon = 0.2\n",
    "def select_action(state, explore = True):\n",
    "    # 选择动作，有0.2的概率进行随机探索\n",
    "    if explore and np.random.random() < epsilon:\n",
    "        return env.action_space.sample()\n",
    "    \n",
    "    # 有0.8的概率从当前训练的Q函数中，预测所有可能动作的Q值\n",
    "    cur_state = convert_state(state)\n",
    "    q_value = Q(torch.FloatTensor(cur_state).to(device))\n",
    "#     print(Q.parameters())\n",
    "    action = q_value.argmax().detach().cpu().item()\n",
    "    return action\n",
    "\n",
    "# \n",
    "# state, _ = env.reset()\n",
    "# for i in range(10):\n",
    "#     v = select_action(state)\n",
    "#     print(type(v), v)\n",
    "#     next_state, reward, done, _, _ = env.step(v)\n",
    "\n",
    "convert_state(3)"
   ]
  },
  {
   "cell_type": "code",
   "execution_count": 324,
   "id": "cea4378d",
   "metadata": {},
   "outputs": [],
   "source": [
    "gamma = 0.98\n",
    "seed = 3\n",
    "\n",
    "scores = []\n",
    "losses = []\n",
    "steps = []\n",
    "#假设要跑100幂\n",
    "epoch = 5000\n",
    "while True:\n",
    "    if epoch <= 0:\n",
    "        break\n",
    "    \n",
    "    epoch -= 1\n",
    "    score = 0\n",
    "    '''使用如下方式时，state的类型是list，否则是一个array'''\n",
    "    state, _ = env.reset()\n",
    "    \n",
    "    step = 0\n",
    "    while True:\n",
    "        '''这里代理选择一个动作来执行'''\n",
    "        action = select_action(state)\n",
    "        '''得到下一个状态,构成(s,a,r,s')'''\n",
    "        next_state, reward, done, truncated, _ = env.step(action)\n",
    "        \n",
    "        score += reward\n",
    "        step += 1\n",
    "        \n",
    "        next_target = convert_state(next_state)\n",
    "        cur_state = convert_state(state)\n",
    "        '''\n",
    "        这里可以计算Q_*(s, A)，以及Q_*(s', A),然后用TD算法，逼近Q_*\n",
    "        '''\n",
    "        index_tensor = torch.tensor([action])\n",
    "        q_value = Q(torch.FloatTensor(cur_state).to(device)).gather(0, index_tensor)\n",
    "        \n",
    "        next_q_value = Q(torch.FloatTensor(next_target).to(device)).max().reshape(1)\n",
    "        mask = 1 - done\n",
    "        target = reward + gamma * next_q_value * mask\n",
    "        \n",
    "#         print(q_value, target, q_value.shape, target.shape)\n",
    "        loss = F.smooth_l1_loss(q_value, target)\n",
    "        optimizer.zero_grad()\n",
    "        loss.backward()\n",
    "        optimizer.step()\n",
    "        \n",
    "        if done:\n",
    "            scores.append(score)\n",
    "            steps.append(step)\n",
    "            break\n",
    "            \n",
    "        state = next_state\n",
    "        \n",
    "        if epsilon < 0.05:\n",
    "            epsilon = 0.05\n",
    "        else:\n",
    "            epsilon *= 0.98\n"
   ]
  },
  {
   "cell_type": "code",
   "execution_count": 331,
   "id": "f7cbd3da",
   "metadata": {},
   "outputs": [
    {
     "name": "stderr",
     "output_type": "stream",
     "text": [
      "/opt/homebrew/anaconda3/lib/python3.11/site-packages/gymnasium/wrappers/record_video.py:94: UserWarning: \u001b[33mWARN: Overwriting existing videos at /Users/webberg/workspace/code/reinforce_learning/rainbow folder (try specifying a different `video_folder` for the `RecordVideo` wrapper if this is not desired)\u001b[0m\n",
      "  logger.warn(\n"
     ]
    },
    {
     "name": "stdout",
     "output_type": "stream",
     "text": [
      "Moviepy - Building video /Users/webberg/workspace/code/reinforce_learning/rainbow/rl-video-episode-0.mp4.\n",
      "Moviepy - Writing video /Users/webberg/workspace/code/reinforce_learning/rainbow/rl-video-episode-0.mp4\n",
      "\n"
     ]
    },
    {
     "name": "stderr",
     "output_type": "stream",
     "text": [
      "                                                                                "
     ]
    },
    {
     "name": "stdout",
     "output_type": "stream",
     "text": [
      "Moviepy - Done !\n",
      "Moviepy - video ready /Users/webberg/workspace/code/reinforce_learning/rainbow/rl-video-episode-0.mp4\n",
      "score:  1.0 step: 14\n"
     ]
    },
    {
     "name": "stderr",
     "output_type": "stream",
     "text": [
      "\r"
     ]
    }
   ],
   "source": [
    "# 观察效果\n",
    "def test():\n",
    "    dvideo_env = gym.wrappers.RecordVideo(env, video_folder='.')\n",
    "    state, _ = dvideo_env.reset(seed=seed)\n",
    "    done = False\n",
    "    score = 0\n",
    "    step = 0\n",
    "    while not done:\n",
    "        action = select_action(state, False)\n",
    "        next_state, reward, done, truncated, _ = dvideo_env.step(action)\n",
    "\n",
    "        state = next_state\n",
    "        score += reward\n",
    "        step +=1\n",
    "\n",
    "    print(\"score: \", score, \"step:\", step)\n",
    "    dvideo_env.close()\n",
    "    \n",
    "test()"
   ]
  },
  {
   "cell_type": "code",
   "execution_count": 326,
   "id": "acb1416c",
   "metadata": {},
   "outputs": [
    {
     "data": {
      "image/png": "[encoded data removed]",
      "text/plain": [
       "<Figure size 2000x500 with 2 Axes>"
      ]
     },
     "metadata": {},
     "output_type": "display_data"
    }
   ],
   "source": [
    "# 观察曲线\n",
    "plt.figure(figsize=(20, 5))\n",
    "plt.subplot(131)\n",
    "# plt.title('frame %s. score: %s' % (frame_idx, np.mean(scores[-10:])))\n",
    "plt.title('score')\n",
    "plt.plot(scores)\n",
    "plt.subplot(132)\n",
    "plt.title('steps')\n",
    "plt.plot(steps)\n",
    "# plt.subplot(133)\n",
    "# plt.title('epsilons')\n",
    "# plt.plot(epsilons)\n",
    "plt.show()"
   ]
  },
  {
   "cell_type": "code",
   "execution_count": null,
   "id": "ecf5d907",
   "metadata": {},
   "outputs": [],
   "source": []
  }
 ],
 "metadata": {
  "kernelspec": {
   "display_name": "Python 3 (ipykernel)",
   "language": "python",
   "name": "python3"
  },
  "language_info": {
   "codemirror_mode": {
    "name": "ipython",
    "version": 3
   },
   "file_extension": ".py",
   "mimetype": "text/x-python",
   "name": "python",
   "nbconvert_exporter": "python",
   "pygments_lexer": "ipython3",
   "version": "3.11.5"
  },
  "toc": {
   "base_numbering": 1,
   "nav_menu": {},
   "number_sections": true,
   "sideBar": true,
   "skip_h1_title": false,
   "title_cell": "Table of Contents",
   "title_sidebar": "Contents",
   "toc_cell": false,
   "toc_position": {},
   "toc_section_display": true,
   "toc_window_display": false
  },
  "varInspector": {
   "cols": {
    "lenName": 16,
    "lenType": 16,
    "lenVar": 40
   },
   "kernels_config": {
    "python": {
     "delete_cmd_postfix": "",
     "delete_cmd_prefix": "del ",
     "library": "var_list.py",
     "varRefreshCmd": "print(var_dic_list())"
    },
    "r": {
     "delete_cmd_postfix": ") ",
     "delete_cmd_prefix": "rm(",
     "library": "var_list.r",
     "varRefreshCmd": "cat(var_dic_list()) "
    }
   },
   "types_to_exclude": [
    "module",
    "function",
    "builtin_function_or_method",
    "instance",
    "_Feature"
   ],
   "window_display": false
  }
 },
 "nbformat": 4,
 "nbformat_minor": 5
}
