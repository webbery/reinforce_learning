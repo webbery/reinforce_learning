{
 "cells": [
  {
   "cell_type": "code",
   "execution_count": 4,
   "id": "312724a0",
   "metadata": {},
   "outputs": [],
   "source": [
    "import os\n",
    "from typing import Dict, List, Tuple\n",
    "\n",
    "import gymnasium as gym\n",
    "import matplotlib.pyplot as plt\n",
    "import numpy as np\n",
    "import torch\n",
    "import torch.nn as nn\n",
    "import torch.nn.functional as F\n",
    "import torch.optim as optim\n",
    "from IPython.display import clear_output"
   ]
  },
  {
   "cell_type": "code",
   "execution_count": 6,
   "id": "7d7a09de",
   "metadata": {},
   "outputs": [],
   "source": [
    "env = gym.make(\"CartPole-v1\", max_episode_steps=200, render_mode=\"rgb_array\")\n",
    "\n",
    "device = torch.device(\n",
    "    \"cuda\" if torch.cuda.is_available() else \"cpu\"\n",
    ")\n",
    "\n",
    "obs_dim = env.observation_space.shape[0]\n",
    "action_dim = env.action_space.n\n"
   ]
  },
  {
   "cell_type": "code",
   "execution_count": 7,
   "id": "a8354700",
   "metadata": {},
   "outputs": [],
   "source": [
    "class QNetwork(nn.Module):\n",
    "    def __init__(self, in_dim: int, out_dim: int):\n",
    "        \"\"\"Initialization.\"\"\"\n",
    "        super(QNetwork, self).__init__()\n",
    "\n",
    "        self.layers = nn.Sequential(\n",
    "            nn.Linear(in_dim, 128), \n",
    "            nn.ReLU(),\n",
    "            nn.Linear(128, 128), \n",
    "            nn.ReLU(), \n",
    "            nn.Linear(128, out_dim)\n",
    "        )\n",
    "\n",
    "    def forward(self, x: torch.Tensor) -> torch.Tensor:\n",
    "        \"\"\"Forward method implementation.\"\"\"\n",
    "        return self.layers(x)"
   ]
  },
  {
   "cell_type": "markdown",
   "id": "3f60907c",
   "metadata": {},
   "source": [
    "### 经验池"
   ]
  },
  {
   "cell_type": "code",
   "execution_count": 8,
   "id": "af2547f5",
   "metadata": {},
   "outputs": [],
   "source": [
    "class ReplayBuffer:\n",
    "    def __init__(self, max_size: int, obs_dim: int, batch_size: int = 32):\n",
    "        self._obs_buf = np.zeros([max_size, obs_dim], dtype=np.float32)\n",
    "        self._act_buf = np.zeros([max_size], dtype=np.float32)\n",
    "        self._reward = np.zeros([max_size], dtype=np.float32)\n",
    "        self._next_obs_buf = np.zeros([max_size, obs_dim], dtype=np.float32)\n",
    "        self._done = np.zeros([max_size], dtype=np.float32)\n",
    "        \n",
    "        self._index = 0\n",
    "        self._size = 0\n",
    "        self._max_size = max_size\n",
    "        self._batch_size = batch_size\n",
    "        \n",
    "    def store(self, obs: np.ndarray, act: np.ndarray, rew: float, next_obs: np.ndarray, done: bool):\n",
    "        self._obs_buf[self._index] = obs\n",
    "        self._act_buf[self._index] = act\n",
    "        self._reward[self._index] = rew\n",
    "        self._next_obs_buf[self._index] = next_obs\n",
    "        self._done[self._index] = done\n",
    "        self._index = (self._index + 1) % self._max_size\n",
    "        self._size = min(self._size + 1, self._max_size)\n",
    "        \n",
    "    def __len__(self) -> int:\n",
    "        return self._size\n",
    "    \n",
    "    def sample(self) -> Dict[str, np.ndarray]:\n",
    "        idxs = np.random.choice(self._size, size=self._batch_size, replace=False)\n",
    "        return dict(obs=self._obs_buf[idxs],\n",
    "                    acts=self._act_buf[idxs],\n",
    "                    rews=self._reward[idxs],\n",
    "                    next_obs=self._next_obs_buf[idxs],\n",
    "                    done=self._done[idxs])"
   ]
  },
  {
   "cell_type": "code",
   "execution_count": 9,
   "id": "28d025b1",
   "metadata": {},
   "outputs": [],
   "source": [
    "epsilon = 0.2\n",
    "def select_action(state, explore = True):\n",
    "    # 选择动作，有0.2的概率进行随机探索\n",
    "    if explore and np.random.random() < epsilon:\n",
    "        return env.action_space.sample()\n",
    "    \n",
    "    # 有0.8的概率从当前训练的Q函数中，预测所有可能动作的Q值\n",
    "    q_value = Q(torch.FloatTensor(state).to(device))\n",
    "    action = q_value.argmax().detach().cpu().item()\n",
    "    return action"
   ]
  },
  {
   "cell_type": "code",
   "execution_count": 10,
   "id": "84a0e9ed",
   "metadata": {},
   "outputs": [],
   "source": [
    "Q = QNetwork(obs_dim, action_dim).to(device)\n",
    "#\n",
    "optimizer = optim.Adam(Q.parameters(), lr=0.001)"
   ]
  },
  {
   "cell_type": "code",
   "execution_count": 26,
   "id": "58d1faf2",
   "metadata": {},
   "outputs": [
    {
     "name": "stdout",
     "output_type": "stream",
     "text": [
      "tensor([[1, 2],\n",
      "        [3, 4]])\n",
      "tensor([[0],\n",
      "        [1]])\n"
     ]
    },
    {
     "data": {
      "text/plain": [
       "tensor([[1],\n",
       "        [4]])"
      ]
     },
     "execution_count": 26,
     "metadata": {},
     "output_type": "execute_result"
    }
   ],
   "source": [
    "t = torch.LongTensor([[1,2],[3,4]])\n",
    "print(t)\n",
    "i = torch.LongTensor([0,1]).reshape(-1, 1)\n",
    "print(i)\n",
    "t.gather(1, i)"
   ]
  },
  {
   "cell_type": "code",
   "execution_count": 27,
   "id": "63beff2e",
   "metadata": {},
   "outputs": [],
   "source": [
    "gamma = 0.98\n",
    "seed = 3\n",
    "max_buffer = 2000\n",
    "buffer = ReplayBuffer(max_buffer, obs_dim)\n",
    "\n",
    "scores = []\n",
    "losses = []\n",
    "steps = []\n",
    "#在不用经验池的时候,5000次也能训练出来,我们降低训练次数,希望能很快学到策略\n",
    "epoch = 1000\n",
    "while True:\n",
    "    if epoch <= 0:\n",
    "        break\n",
    "    \n",
    "    epoch -= 1\n",
    "    score = 0\n",
    "    '''使用如下方式时，state的类型是list，否则是一个array'''\n",
    "    state, _ = env.reset()\n",
    "    \n",
    "    step = 0\n",
    "    while True:\n",
    "        '''这里代理选择一个动作来执行'''\n",
    "        action = select_action(state)\n",
    "        '''得到下一个状态,构成(s,a,r,s')'''\n",
    "        next_state, reward, done, truncated, _ = env.step(action)\n",
    "        \n",
    "        buffer.store(state, action, reward, next_state, done)\n",
    "        score += reward\n",
    "        step += 1\n",
    "        \n",
    "        '''采集完毕，开始训练'''\n",
    "        if len(buffer) >= max_buffer:\n",
    "            samples = buffer.sample()\n",
    "            states = torch.FloatTensor(samples['obs']).to(device)\n",
    "            actions = torch.LongTensor(samples['acts']).reshape(-1, 1).to(device)\n",
    "            rewards = torch.FloatTensor(samples['rews']).reshape(-1, 1).to(device)\n",
    "            next_states = torch.FloatTensor(samples['next_obs']).to(device)\n",
    "            dones = torch.LongTensor(samples['done']).reshape(-1, 1).to(device)\n",
    "            q = Q(torch.FloatTensor(states).to(device))\n",
    "            q_value = q.gather(1, actions)\n",
    "\n",
    "            next_q_value = Q(torch.FloatTensor(next_states).to(device)).max().reshape(1)\n",
    "            mask = 1 - dones\n",
    "            target = reward + gamma * next_q_value * mask\n",
    "\n",
    "    #         print(q_value, target, q_value.shape, target.shape)\n",
    "            loss = F.smooth_l1_loss(q_value, target)\n",
    "            optimizer.zero_grad()\n",
    "            loss.backward()\n",
    "            optimizer.step()\n",
    "            \n",
    "            if epsilon < 0.05:\n",
    "                epsilon = 0.05\n",
    "            else:\n",
    "                epsilon *= 0.98\n",
    "\n",
    "        \n",
    "        if done or step >= 200:\n",
    "            scores.append(score)\n",
    "            steps.append(step)\n",
    "            break\n",
    "            \n",
    "        state = next_state\n"
   ]
  },
  {
   "cell_type": "code",
   "execution_count": 28,
   "id": "24444f33",
   "metadata": {},
   "outputs": [
    {
     "data": {
      "image/png": "[encoded data removed]",
      "text/plain": [
       "<Figure size 2000x500 with 2 Axes>"
      ]
     },
     "metadata": {},
     "output_type": "display_data"
    }
   ],
   "source": [
    "# 观察曲线\n",
    "plt.figure(figsize=(20, 5))\n",
    "plt.subplot(131)\n",
    "# plt.title('frame %s. score: %s' % (frame_idx, np.mean(scores[-10:])))\n",
    "plt.title('score')\n",
    "plt.plot(scores)\n",
    "plt.subplot(132)\n",
    "plt.title('steps')\n",
    "plt.plot(steps)\n",
    "# plt.subplot(133)\n",
    "# plt.title('epsilons')\n",
    "# plt.plot(epsilons)\n",
    "plt.show()"
   ]
  },
  {
   "cell_type": "code",
   "execution_count": 29,
   "id": "2dd924f8",
   "metadata": {},
   "outputs": [
    {
     "name": "stderr",
     "output_type": "stream",
     "text": [
      "/opt/homebrew/anaconda3/lib/python3.11/site-packages/gymnasium/wrappers/record_video.py:94: UserWarning: \u001b[33mWARN: Overwriting existing videos at /Users/webberg/workspace/code/reinforce_learning/rainbow folder (try specifying a different `video_folder` for the `RecordVideo` wrapper if this is not desired)\u001b[0m\n",
      "  logger.warn(\n"
     ]
    },
    {
     "name": "stdout",
     "output_type": "stream",
     "text": [
      "Moviepy - Building video /Users/webberg/workspace/code/reinforce_learning/rainbow/rl-video-episode-0.mp4.\n",
      "Moviepy - Writing video /Users/webberg/workspace/code/reinforce_learning/rainbow/rl-video-episode-0.mp4\n",
      "\n"
     ]
    },
    {
     "name": "stderr",
     "output_type": "stream",
     "text": [
      "                                                                                "
     ]
    },
    {
     "name": "stdout",
     "output_type": "stream",
     "text": [
      "Moviepy - Done !\n",
      "Moviepy - video ready /Users/webberg/workspace/code/reinforce_learning/rainbow/rl-video-episode-0.mp4\n",
      "score:  9.0 step: 9\n"
     ]
    },
    {
     "name": "stderr",
     "output_type": "stream",
     "text": [
      "\r"
     ]
    }
   ],
   "source": [
    "# 观察效果\n",
    "def test():\n",
    "    dvideo_env = gym.wrappers.RecordVideo(env, video_folder='.')\n",
    "    state, _ = dvideo_env.reset(seed=seed)\n",
    "    done = False\n",
    "    score = 0\n",
    "    step = 0\n",
    "    while not done and step < 200:\n",
    "        action = select_action(state, False)\n",
    "        next_state, reward, done, truncated, _ = dvideo_env.step(action)\n",
    "\n",
    "        state = next_state\n",
    "        score += reward\n",
    "        step +=1\n",
    "\n",
    "    print(\"score: \", score, \"step:\", step)\n",
    "    dvideo_env.close()\n",
    "    \n",
    "test()"
   ]
  },
  {
   "cell_type": "markdown",
   "id": "1bdac49c",
   "metadata": {},
   "source": [
    "### 优先经验池"
   ]
  },
  {
   "cell_type": "code",
   "execution_count": null,
   "id": "5fdce1c6",
   "metadata": {},
   "outputs": [],
   "source": [
    "class PriorReplayBuffer:\n",
    "    def __init__(self):\n",
    "        pass"
   ]
  }
 ],
 "metadata": {
  "kernelspec": {
   "display_name": "Python 3 (ipykernel)",
   "language": "python",
   "name": "python3"
  },
  "language_info": {
   "codemirror_mode": {
    "name": "ipython",
    "version": 3
   },
   "file_extension": ".py",
   "mimetype": "text/x-python",
   "name": "python",
   "nbconvert_exporter": "python",
   "pygments_lexer": "ipython3",
   "version": "3.11.5"
  },
  "toc": {
   "base_numbering": 1,
   "nav_menu": {},
   "number_sections": true,
   "sideBar": true,
   "skip_h1_title": false,
   "title_cell": "Table of Contents",
   "title_sidebar": "Contents",
   "toc_cell": false,
   "toc_position": {},
   "toc_section_display": true,
   "toc_window_display": false
  },
  "varInspector": {
   "cols": {
    "lenName": 16,
    "lenType": 16,
    "lenVar": 40
   },
   "kernels_config": {
    "python": {
     "delete_cmd_postfix": "",
     "delete_cmd_prefix": "del ",
     "library": "var_list.py",
     "varRefreshCmd": "print(var_dic_list())"
    },
    "r": {
     "delete_cmd_postfix": ") ",
     "delete_cmd_prefix": "rm(",
     "library": "var_list.r",
     "varRefreshCmd": "cat(var_dic_list()) "
    }
   },
   "types_to_exclude": [
    "module",
    "function",
    "builtin_function_or_method",
    "instance",
    "_Feature"
   ],
   "window_display": false
  }
 },
 "nbformat": 4,
 "nbformat_minor": 5
}
