{
 "cells": [
  {
   "cell_type": "code",
   "execution_count": 1,
   "id": "312724a0",
   "metadata": {},
   "outputs": [],
   "source": [
    "import os\n",
    "from typing import Dict, List, Tuple\n",
    "\n",
    "import gymnasium as gym\n",
    "import matplotlib.pyplot as plt\n",
    "import numpy as np\n",
    "import torch\n",
    "import torch.nn as nn\n",
    "import torch.nn.functional as F\n",
    "import torch.optim as optim\n",
    "from IPython.display import clear_output"
   ]
  },
  {
   "cell_type": "code",
   "execution_count": 2,
   "id": "7d7a09de",
   "metadata": {},
   "outputs": [],
   "source": [
    "env = gym.make(\"CartPole-v1\", max_episode_steps=200, render_mode=\"rgb_array\")\n",
    "\n",
    "device = torch.device(\n",
    "    \"cuda\" if torch.cuda.is_available() else \"cpu\"\n",
    ")"
   ]
  },
  {
   "cell_type": "code",
   "execution_count": 3,
   "id": "a8354700",
   "metadata": {},
   "outputs": [],
   "source": [
    "class Network(nn.Module):\n",
    "    def __init__(self, in_dim: int, out_dim: int):\n",
    "        \"\"\"Initialization.\"\"\"\n",
    "        super(Network, self).__init__()\n",
    "\n",
    "        self.layers = nn.Sequential(\n",
    "            nn.Linear(in_dim, 128), \n",
    "            nn.ReLU(),\n",
    "            nn.Linear(128, 128), \n",
    "            nn.ReLU(), \n",
    "            nn.Linear(128, out_dim)\n",
    "        )\n",
    "\n",
    "    def forward(self, x: torch.Tensor) -> torch.Tensor:\n",
    "        \"\"\"Forward method implementation.\"\"\"\n",
    "        return self.layers(x)"
   ]
  },
  {
   "cell_type": "markdown",
   "id": "3f60907c",
   "metadata": {},
   "source": [
    "### 经验池"
   ]
  },
  {
   "cell_type": "code",
   "execution_count": null,
   "id": "af2547f5",
   "metadata": {},
   "outputs": [],
   "source": [
    "class ReplayBuffer:\n",
    "    def __init__(self, max_size: int, obs_dim: int, batch_size: int = 32):\n",
    "        self._obs_buf = np.zeros([max_size, obs_dim], dtype=np.float32)\n",
    "        self._act_buf = np.zeros([max_size], dtype=np.float32)\n",
    "        self._reward = np.zeros([max_size], dtype=np.float32)\n",
    "        self._next_obs_buf = np.zeros([max_size, obs_dim], dtype=np.float32)\n",
    "        self._done = np.zeros([max_size], dtype=np.float32)\n",
    "        \n",
    "        self._index = 0\n",
    "        self._size = 0\n",
    "        self._max_size = max_size\n",
    "        self._batch_size = batch_size\n",
    "        \n",
    "    def store(self, obs: np.ndarray, act: np.ndarray, rew: float, next_obs: np.ndarray, done: bool):\n",
    "        self._obs_buf[self._index] = obs\n",
    "        self._act_buf[self._index] = act\n",
    "        self._reward[self._index] = rew\n",
    "        self._next_obs_buf[self._index] = next_obs\n",
    "        self._done[self._index] = done\n",
    "        self._index = (self._index + 1) % self._max_size\n",
    "        self._size = min(self._size + 1, self._max_size)\n",
    "        \n",
    "    def __len__(self) -> int:\n",
    "        return self._size\n",
    "    \n",
    "    def sample(self) -> Dict[str, np.ndarray]:\n",
    "        idxs = np.random.choice(self._size, size=self._batch_size, replace=False)\n",
    "        return dict(obs=self._obs_buf[idxs],\n",
    "                    acts=self._act_buf[idxs],\n",
    "                    rews=self._reward[idxs],\n",
    "                    next_obs=self._next_obs_buf[idxs],\n",
    "                    done=self._done[idxs])"
   ]
  },
  {
   "cell_type": "code",
   "execution_count": null,
   "id": "63beff2e",
   "metadata": {},
   "outputs": [],
   "source": []
  },
  {
   "cell_type": "markdown",
   "id": "1bdac49c",
   "metadata": {},
   "source": [
    "### 优先经验池"
   ]
  },
  {
   "cell_type": "code",
   "execution_count": null,
   "id": "5fdce1c6",
   "metadata": {},
   "outputs": [],
   "source": [
    "class PriorReplayBuffer:\n",
    "    def __init__(self):\n",
    "        pass"
   ]
  }
 ],
 "metadata": {
  "kernelspec": {
   "display_name": "Python 3 (ipykernel)",
   "language": "python",
   "name": "python3"
  },
  "language_info": {
   "codemirror_mode": {
    "name": "ipython",
    "version": 3
   },
   "file_extension": ".py",
   "mimetype": "text/x-python",
   "name": "python",
   "nbconvert_exporter": "python",
   "pygments_lexer": "ipython3",
   "version": "3.11.5"
  },
  "toc": {
   "base_numbering": 1,
   "nav_menu": {},
   "number_sections": true,
   "sideBar": true,
   "skip_h1_title": false,
   "title_cell": "Table of Contents",
   "title_sidebar": "Contents",
   "toc_cell": false,
   "toc_position": {},
   "toc_section_display": true,
   "toc_window_display": false
  },
  "varInspector": {
   "cols": {
    "lenName": 16,
    "lenType": 16,
    "lenVar": 40
   },
   "kernels_config": {
    "python": {
     "delete_cmd_postfix": "",
     "delete_cmd_prefix": "del ",
     "library": "var_list.py",
     "varRefreshCmd": "print(var_dic_list())"
    },
    "r": {
     "delete_cmd_postfix": ") ",
     "delete_cmd_prefix": "rm(",
     "library": "var_list.r",
     "varRefreshCmd": "cat(var_dic_list()) "
    }
   },
   "types_to_exclude": [
    "module",
    "function",
    "builtin_function_or_method",
    "instance",
    "_Feature"
   ],
   "window_display": false
  }
 },
 "nbformat": 4,
 "nbformat_minor": 5
}
