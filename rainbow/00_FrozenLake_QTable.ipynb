{
 "cells": [
  {
   "cell_type": "code",
   "execution_count": 1,
   "id": "709d2646",
   "metadata": {},
   "outputs": [],
   "source": [
    "import os\n",
    "from typing import Dict, List, Tuple\n",
    "\n",
    "import gymnasium as gym\n",
    "import matplotlib.pyplot as plt\n",
    "import numpy as np\n",
    "import torch\n",
    "import torch.nn as nn\n",
    "import torch.nn.functional as F\n",
    "import torch.optim as optim\n",
    "from IPython.display import clear_output\n",
    "\n",
    "#https://www.kaggle.com/code/sarjit07/reinforcement-learning-using-q-table-frozenlake"
   ]
  },
  {
   "cell_type": "code",
   "execution_count": 92,
   "id": "b557c422",
   "metadata": {},
   "outputs": [],
   "source": [
    "env = gym.make('FrozenLake-v1', render_mode='rgb_array', is_slippery=False)"
   ]
  },
  {
   "cell_type": "code",
   "execution_count": 135,
   "id": "4ce69346",
   "metadata": {},
   "outputs": [],
   "source": [
    "# Hyper-Parameters\n",
    "\n",
    "total_episodes = 10000 # Total number of iterations or episodes of training.\n",
    "\n",
    "# A higher value of epsilon encourages more exploration, while a lower value of epsilon favors exploitation.\n",
    "epsilon = 0.9 # For epsilon-gready policy, Positive real number (0 < epsilon < 1)\n",
    "\n",
    "max_steps = 100 # Maximum number of steps that agent can take in environment\n",
    "\n",
    "lr_rate = 0.9 # Learning Rate of convergence to global minimum\n",
    "\n",
    "# A high discount factor means that future rewards are highly valued, while a \n",
    "# low discount factor means that immediate rewards are given greater weight\n",
    "gamma = 0.96 # Discount Factor, Positive real number (0 < gamma < 1)"
   ]
  },
  {
   "cell_type": "code",
   "execution_count": 136,
   "id": "4db75988",
   "metadata": {},
   "outputs": [],
   "source": [
    "Q = np.random.rand(env.observation_space.n, env.action_space.n)"
   ]
  },
  {
   "cell_type": "code",
   "execution_count": 137,
   "id": "d6f075aa",
   "metadata": {},
   "outputs": [],
   "source": [
    "def choose_action(state):\n",
    "    \"\"\" \n",
    "    The choose_action() function used a Epsilon-Gready policy for Exploration and Exploitation.\n",
    "    \n",
    "    Exploration is done when uniform random number from 0 to 1 is less than epsilon value.\n",
    "    Else, Maximum value of the state and action pair is taken which is Exploitation.\n",
    "\n",
    "    Args:\n",
    "        state (int): Gets the current state as parameter/\n",
    "\n",
    "    Returns:\n",
    "        int: Returns action to be taken in that state\n",
    "    \"\"\"\n",
    "    action=0\n",
    "    if np.random.uniform(0, 1) < epsilon: # Epsilon-Gready policy\n",
    "        action = env.action_space.sample() # Exploration, Random action sample space\n",
    "    else:\n",
    "        ####### 如果Q表初始为0,需要加了随机扰动以更快的找到最优动作\n",
    "#         random_values = Q[state] + np.random.rand(1,env.action_space.n) / 1000\n",
    "        action = np.argmax(Q[state]) # Exploitation, Maximum value is taken from (State, Action)\n",
    "    return action"
   ]
  },
  {
   "cell_type": "code",
   "execution_count": 138,
   "id": "c1b5b7fc",
   "metadata": {},
   "outputs": [],
   "source": [
    "def learn(state, state2, reward, action, done):\n",
    "    \"\"\" \n",
    "    Updates the Q-table.\n",
    "    Agent learn to find a optimal policy by using bellman optimality equation.\n",
    "\n",
    "    Args:\n",
    "        state (int): Current state\n",
    "        state2 (int): Future state\n",
    "        reward (int): Reward if rached to goal state\n",
    "        action (int): action states\n",
    "    \"\"\"\n",
    "    predict = Q[state, action]\n",
    "    mask = (1 - done)\n",
    "    target = reward + gamma * np.max(Q[state2, :]) * mask\n",
    "    Q[state, action] = predict + lr_rate * (target - predict)"
   ]
  },
  {
   "cell_type": "code",
   "execution_count": 139,
   "id": "d5846d00",
   "metadata": {},
   "outputs": [],
   "source": [
    "# Start with Reinforment Learning\n",
    "rewards = []\n",
    "steps = []\n",
    "for episode in range(total_episodes):\n",
    "    state, _ = env.reset() # Resetting the environment\n",
    "    t = 0\n",
    "    \n",
    "    total_reward = 0\n",
    "    while t < max_steps:\n",
    "#         env.render() # Rendering the frozen-lake environment\n",
    "\n",
    "        action = choose_action(state)  # Taking action\n",
    "        if epsilon < 0.1:\n",
    "            epsilon = 0.1\n",
    "        else:\n",
    "            epsilon *= 0.99\n",
    "        # Returns new_state, reward after taking a action, done (boolean) whether reached to goal or not, information\n",
    "        state2, reward, done, truncated, _ = env.step(action)\n",
    "        learn(state, state2, reward, action, done) # Agent learns Q-table policy\n",
    "\n",
    "        state = state2 # Setting state to new state \n",
    "\n",
    "        t += 1\n",
    "        total_reward += reward\n",
    "        \n",
    "        if done: # If goal state is reached then true and loop breaks\n",
    "            break\n",
    "\n",
    "#         time.sleep(0.1)\n",
    "    rewards.append(total_reward)\n",
    "    steps.append(t)"
   ]
  },
  {
   "cell_type": "code",
   "execution_count": 140,
   "id": "90f73fe6",
   "metadata": {},
   "outputs": [
    {
     "name": "stdout",
     "output_type": "stream",
     "text": [
      "[[7.82757790e-001 8.15372698e-001 8.15372698e-001 7.82757790e-001]\n",
      " [7.82757790e-001 5.14055334e-018 8.49346560e-001 8.15372025e-001]\n",
      " [8.15372697e-001 8.84736000e-001 8.15372665e-001 8.49346560e-001]\n",
      " [8.49346560e-001 5.45933099e-002 7.74839735e-001 1.07705940e-001]\n",
      " [8.15372698e-001 8.49346560e-001 5.40704284e-257 7.82757790e-001]\n",
      " [6.48374209e-001 3.87243934e-003 9.65053624e-001 8.42752215e-001]\n",
      " [5.93325879e-010 9.21600000e-001 9.47903890e-008 8.49330933e-001]\n",
      " [3.68699919e-001 2.39442194e-001 5.74211405e-001 5.51126116e-001]\n",
      " [8.49346560e-001 9.48346076e-259 8.84736000e-001 8.15372698e-001]\n",
      " [8.49346560e-001 9.21600000e-001 9.21600000e-001 7.78481228e-240]\n",
      " [8.84736000e-001 9.60000000e-001 8.75007648e-039 8.84736000e-001]\n",
      " [9.06656711e-002 4.90192003e-001 4.07561382e-002 2.71699517e-001]\n",
      " [4.37090900e-001 3.40935066e-001 6.10739404e-001 9.23813868e-001]\n",
      " [6.80606552e-236 9.21600000e-001 9.60000000e-001 8.84736000e-001]\n",
      " [9.21600000e-001 9.60000000e-001 1.00000000e+000 9.21600000e-001]\n",
      " [6.10100774e-001 2.89649334e-001 2.92449512e-001 9.79231403e-001]]\n"
     ]
    }
   ],
   "source": [
    "print(Q)"
   ]
  },
  {
   "cell_type": "code",
   "execution_count": 141,
   "id": "844187b1",
   "metadata": {},
   "outputs": [
    {
     "data": {
      "image/png": "[encoded data removed]",
      "text/plain": [
       "<Figure size 864x360 with 1 Axes>"
      ]
     },
     "metadata": {
      "needs_background": "light"
     },
     "output_type": "display_data"
    }
   ],
   "source": [
    "# 查看训练到后期的总奖励是否增加,说明训练情况是否正确\n",
    "plt.figure(figsize=(12,5))\n",
    "plt.title(\"Rewards\")\n",
    "plt.bar(torch.arange(len(rewards)), rewards, alpha=0.6, color='green', width=5)\n",
    "plt.show()"
   ]
  },
  {
   "cell_type": "code",
   "execution_count": 142,
   "id": "03cf3406",
   "metadata": {},
   "outputs": [
    {
     "data": {
      "image/png": "[encoded data removed]",
      "text/plain": [
       "<Figure size 864x360 with 1 Axes>"
      ]
     },
     "metadata": {
      "needs_background": "light"
     },
     "output_type": "display_data"
    }
   ],
   "source": [
    "plt.figure(figsize=(12,5))\n",
    "plt.title(\"Steps / Episode length\")\n",
    "plt.bar(torch.arange(len(steps)), steps, alpha=0.6, color='red', width=5)\n",
    "plt.show()"
   ]
  },
  {
   "cell_type": "code",
   "execution_count": 25,
   "id": "437ac1ae",
   "metadata": {},
   "outputs": [],
   "source": [
    "import pickle      # For storing updated Q-table.\n",
    "with open(\"frozenLake_qTable.pkl\", 'wb') as f:\n",
    "    pickle.dump(Q, f)"
   ]
  },
  {
   "cell_type": "code",
   "execution_count": 143,
   "id": "a83da747",
   "metadata": {},
   "outputs": [
    {
     "name": "stderr",
     "output_type": "stream",
     "text": [
      "/home/ubuntu/anaconda3/lib/python3.7/site-packages/gymnasium/wrappers/record_video.py:88: UserWarning: \u001b[33mWARN: Overwriting existing videos at /media/ubuntu/8b2f607c-117a-47e9-b82e-caf4eeeabeca/temp/test/reinforce_learning/rainbow folder (try specifying a different `video_folder` for the `RecordVideo` wrapper if this is not desired)\u001b[0m\n",
      "  f\"Overwriting existing videos at {self.video_folder} folder \"\n"
     ]
    },
    {
     "name": "stdout",
     "output_type": "stream",
     "text": [
      "Moviepy - Building video /media/ubuntu/8b2f607c-117a-47e9-b82e-caf4eeeabeca/temp/test/reinforce_learning/rainbow/rl-video-episode-0.mp4.\n",
      "Moviepy - Writing video /media/ubuntu/8b2f607c-117a-47e9-b82e-caf4eeeabeca/temp/test/reinforce_learning/rainbow/rl-video-episode-0.mp4\n",
      "\n"
     ]
    },
    {
     "name": "stderr",
     "output_type": "stream",
     "text": [
      "                                                  "
     ]
    },
    {
     "name": "stdout",
     "output_type": "stream",
     "text": [
      "Moviepy - Done !\n",
      "Moviepy - video ready /media/ubuntu/8b2f607c-117a-47e9-b82e-caf4eeeabeca/temp/test/reinforce_learning/rainbow/rl-video-episode-0.mp4\n",
      "score:  1.0\n"
     ]
    },
    {
     "name": "stderr",
     "output_type": "stream",
     "text": [
      "\r"
     ]
    }
   ],
   "source": [
    "# 观察效果\n",
    "def choose_action2(state):\n",
    "\taction = np.argmax(Q[state, :])\n",
    "\treturn action\n",
    "\n",
    "def test():\n",
    "    dvideo_env = gym.wrappers.RecordVideo(env, video_folder='.')\n",
    "    state, _ = dvideo_env.reset(seed=3)\n",
    "    done = False\n",
    "    score = 0\n",
    "\n",
    "    times = 0\n",
    "    while not done:\n",
    "        action = choose_action2(state)\n",
    "        next_state, reward, done, truncated, _ = dvideo_env.step(action)\n",
    "\n",
    "        state = next_state\n",
    "        score += reward\n",
    "        times+=1\n",
    "    print(\"score: \", score)\n",
    "    dvideo_env.close()\n",
    "    \n",
    "test()"
   ]
  },
  {
   "cell_type": "code",
   "execution_count": null,
   "id": "d17bfa9f",
   "metadata": {},
   "outputs": [],
   "source": []
  }
 ],
 "metadata": {
  "kernelspec": {
   "display_name": "Python 3",
   "language": "python",
   "name": "python3"
  },
  "language_info": {
   "codemirror_mode": {
    "name": "ipython",
    "version": 3
   },
   "file_extension": ".py",
   "mimetype": "text/x-python",
   "name": "python",
   "nbconvert_exporter": "python",
   "pygments_lexer": "ipython3",
   "version": "3.7.0"
  },
  "toc": {
   "base_numbering": 1,
   "nav_menu": {},
   "number_sections": true,
   "sideBar": true,
   "skip_h1_title": false,
   "title_cell": "Table of Contents",
   "title_sidebar": "Contents",
   "toc_cell": false,
   "toc_position": {},
   "toc_section_display": true,
   "toc_window_display": false
  }
 },
 "nbformat": 4,
 "nbformat_minor": 5
}
